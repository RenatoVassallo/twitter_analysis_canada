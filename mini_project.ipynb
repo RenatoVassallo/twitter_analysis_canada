{
 "cells": [
  {
   "cell_type": "code",
   "execution_count": 7,
   "metadata": {},
   "outputs": [
    {
     "data": {
      "text/html": [
       "<div>\n",
       "<style scoped>\n",
       "    .dataframe tbody tr th:only-of-type {\n",
       "        vertical-align: middle;\n",
       "    }\n",
       "\n",
       "    .dataframe tbody tr th {\n",
       "        vertical-align: top;\n",
       "    }\n",
       "\n",
       "    .dataframe thead th {\n",
       "        text-align: right;\n",
       "    }\n",
       "</style>\n",
       "<table border=\"1\" class=\"dataframe\">\n",
       "  <thead>\n",
       "    <tr style=\"text-align: right;\">\n",
       "      <th></th>\n",
       "      <th>username</th>\n",
       "      <th>description</th>\n",
       "      <th>followers_count</th>\n",
       "      <th>following_count</th>\n",
       "    </tr>\n",
       "  </thead>\n",
       "  <tbody>\n",
       "    <tr>\n",
       "      <th>0</th>\n",
       "      <td>meta201012</td>\n",
       "      <td>International Medical Graduate with a passion ...</td>\n",
       "      <td>14</td>\n",
       "      <td>37</td>\n",
       "    </tr>\n",
       "    <tr>\n",
       "      <th>1</th>\n",
       "      <td>skzahr</td>\n",
       "      <td>MD, PhD | PGY1 Anesthesiology &amp; Pain Medicine ...</td>\n",
       "      <td>333</td>\n",
       "      <td>615</td>\n",
       "    </tr>\n",
       "    <tr>\n",
       "      <th>2</th>\n",
       "      <td>AlikaMD</td>\n",
       "      <td>President, Canadian Medical Association @cma_d...</td>\n",
       "      <td>14024</td>\n",
       "      <td>1662</td>\n",
       "    </tr>\n",
       "    <tr>\n",
       "      <th>3</th>\n",
       "      <td>mbcborges07</td>\n",
       "      <td>M.D. / music lover, #roncaronca addicted!/</td>\n",
       "      <td>167</td>\n",
       "      <td>384</td>\n",
       "    </tr>\n",
       "    <tr>\n",
       "      <th>5</th>\n",
       "      <td>GuyMacAdam7</td>\n",
       "      <td>3PPHrWrfFcw1zDj1o1TegSFhHZw1YsAsy4J</td>\n",
       "      <td>0</td>\n",
       "      <td>0</td>\n",
       "    </tr>\n",
       "    <tr>\n",
       "      <th>...</th>\n",
       "      <td>...</td>\n",
       "      <td>...</td>\n",
       "      <td>...</td>\n",
       "      <td>...</td>\n",
       "    </tr>\n",
       "    <tr>\n",
       "      <th>517</th>\n",
       "      <td>DrTonyEskander</td>\n",
       "      <td>Husband, Dad, 🇨🇦Head&amp;NeckOnc/Recon @Sunnybrook...</td>\n",
       "      <td>1778</td>\n",
       "      <td>2463</td>\n",
       "    </tr>\n",
       "    <tr>\n",
       "      <th>520</th>\n",
       "      <td>SuchitraPai1</td>\n",
       "      <td>Mom, homemaker,self employed, accountant, fina...</td>\n",
       "      <td>213</td>\n",
       "      <td>520</td>\n",
       "    </tr>\n",
       "    <tr>\n",
       "      <th>531</th>\n",
       "      <td>DrCarolynSnider</td>\n",
       "      <td>Chief of Emergency Medicine, Unity Health Toro...</td>\n",
       "      <td>3699</td>\n",
       "      <td>1458</td>\n",
       "    </tr>\n",
       "    <tr>\n",
       "      <th>546</th>\n",
       "      <td>DrDeaRoberts</td>\n",
       "      <td>MD (retired), BHEc (Nutrition) \\nWe shall figh...</td>\n",
       "      <td>1497</td>\n",
       "      <td>1187</td>\n",
       "    </tr>\n",
       "    <tr>\n",
       "      <th>550</th>\n",
       "      <td>ShwetaDhawanMD</td>\n",
       "      <td>Family physician | Passionate abt #globalhealt...</td>\n",
       "      <td>560</td>\n",
       "      <td>581</td>\n",
       "    </tr>\n",
       "  </tbody>\n",
       "</table>\n",
       "<p>117 rows × 4 columns</p>\n",
       "</div>"
      ],
      "text/plain": [
       "            username                                        description  \\\n",
       "0         meta201012  International Medical Graduate with a passion ...   \n",
       "1             skzahr  MD, PhD | PGY1 Anesthesiology & Pain Medicine ...   \n",
       "2            AlikaMD  President, Canadian Medical Association @cma_d...   \n",
       "3        mbcborges07         M.D. / music lover, #roncaronca addicted!/   \n",
       "5        GuyMacAdam7                3PPHrWrfFcw1zDj1o1TegSFhHZw1YsAsy4J   \n",
       "..               ...                                                ...   \n",
       "517   DrTonyEskander  Husband, Dad, 🇨🇦Head&NeckOnc/Recon @Sunnybrook...   \n",
       "520     SuchitraPai1  Mom, homemaker,self employed, accountant, fina...   \n",
       "531  DrCarolynSnider  Chief of Emergency Medicine, Unity Health Toro...   \n",
       "546     DrDeaRoberts  MD (retired), BHEc (Nutrition) \\nWe shall figh...   \n",
       "550   ShwetaDhawanMD  Family physician | Passionate abt #globalhealt...   \n",
       "\n",
       "     followers_count  following_count  \n",
       "0                 14               37  \n",
       "1                333              615  \n",
       "2              14024             1662  \n",
       "3                167              384  \n",
       "5                  0                0  \n",
       "..               ...              ...  \n",
       "517             1778             2463  \n",
       "520              213              520  \n",
       "531             3699             1458  \n",
       "546             1497             1187  \n",
       "550              560              581  \n",
       "\n",
       "[117 rows x 4 columns]"
      ]
     },
     "execution_count": 7,
     "metadata": {},
     "output_type": "execute_result"
    }
   ],
   "source": [
    "from twarc import Twarc\n",
    "import pandas as pd\n",
    "import json\n",
    "\n",
    "# Initialize twarc with your Twitter API credentials\n",
    "t = Twarc(consumer_key='QAlOsFqFtWiRVFRndgC31HGBo',consumer_secret='uitKDVrYBbSZZhbJg15xonJShOl0NFLg7iayVKc0aJhCQLtwxl', access_token='1570111679039520773-L2DOWoUADykCMOGNBg1KSYCqsjAYPS', access_token_secret='lJAN4bF31flrPVcY4rlzWf8wTBpw9msrdyXZw85i39HKt')\n",
    "\n",
    "tweets = []\n",
    "\n",
    "for line in open('doctors.jsonl', 'r'):\n",
    "    tweets.append(json.loads(line))\n",
    "\n",
    "# Create a dataframe\n",
    "tweets = pd.DataFrame(tweets)\n",
    "df = pd.DataFrame()\n",
    "\n",
    "# Extract the set of ids from the json\n",
    "df[\"username\"] = tweets[\"includes\"].apply(lambda x: x[\"users\"][0][\"username\"])\n",
    "df = df.drop_duplicates(subset=['username'])\n",
    "df[\"description\"] = tweets[\"includes\"].apply(lambda x: x[\"users\"][0][\"description\"])\n",
    "df[\"followers_count\"] = tweets[\"includes\"].apply(lambda x: x[\"users\"][0][\"public_metrics\"][\"followers_count\"])\n",
    "df[\"following_count\"] = tweets[\"includes\"].apply(lambda x: x[\"users\"][0][\"public_metrics\"][\"following_count\"])\n",
    "\n",
    "df"
   ]
  },
  {
   "cell_type": "code",
   "execution_count": null,
   "metadata": {},
   "outputs": [],
   "source": [
    "# This cell takes forever run at your own peril\n",
    "\n",
    "unique_ids = set()\n",
    "\n",
    "# Iterate through the set of usernames\n",
    "for index, row in df.iterrows():\n",
    "    username = row[\"username\"]\n",
    "    followers_count = row[\"followers_count\"]\n",
    "    following_count = row[\"following_count\"]\n",
    "    # check which list is smaller\n",
    "    if followers_count <= following_count:\n",
    "        # Retrieve the followers of the user\n",
    "        followers = list(t.follower_ids(username))\n",
    "        # add unique ids to the set\n",
    "        unique_ids.update(followers)\n",
    "    else:\n",
    "        # Retrieve the followings of the user\n",
    "        following = list(t.friend_ids(username))\n",
    "        # add unique ids to the set\n",
    "        unique_ids.update(following)\n",
    "        \n",
    "# write the set of unique ids to the followers.txt file\n",
    "with open(\"followers.txt\",\"w+\") as h:\n",
    "    for id in unique_ids:\n",
    "        h.write(str(id)+\"\\n\")"
   ]
  },
  {
   "cell_type": "code",
   "execution_count": 8,
   "metadata": {},
   "outputs": [
    {
     "data": {
      "text/plain": [
       "id                                    0\n",
       "created_at                            0\n",
       "username                              0\n",
       "name                                  2\n",
       "description                        2118\n",
       "entities.description.cashtags     29943\n",
       "entities.description.hashtags     22637\n",
       "entities.description.mentions     24231\n",
       "entities.description.urls         27714\n",
       "entities.url.urls                 16601\n",
       "location                           6626\n",
       "pinned_tweet_id                   18097\n",
       "profile_image_url                     2\n",
       "protected                             0\n",
       "public_metrics.followers_count        0\n",
       "public_metrics.following_count        0\n",
       "public_metrics.listed_count           0\n",
       "public_metrics.tweet_count            0\n",
       "url                               16601\n",
       "verified                              0\n",
       "verified_type                     29987\n",
       "withheld.scope                    29986\n",
       "withheld.copyright                29987\n",
       "withheld.country_codes            29984\n",
       "__twarc.retrieved_at                  0\n",
       "__twarc.url                           0\n",
       "__twarc.version                       0\n",
       "dtype: int64"
      ]
     },
     "execution_count": 8,
     "metadata": {},
     "output_type": "execute_result"
    }
   ],
   "source": [
    "import pandas as pd\n",
    "\n",
    "# Read the CSV file and create a dataframe\n",
    "df_2 = pd.read_csv('users.csv')\n",
    "\n",
    "\n",
    "df_2.isnull().sum()\n"
   ]
  },
  {
   "cell_type": "code",
   "execution_count": 9,
   "metadata": {},
   "outputs": [],
   "source": [
    "df_2 = df_2[df_2['description'].notna()]"
   ]
  },
  {
   "cell_type": "code",
   "execution_count": 10,
   "metadata": {},
   "outputs": [],
   "source": [
    "# Create a list of keywords to search for in the bio column\n",
    "keywords = ['Medical Doctor', 'M.D.', 'MD', 'PhD in Medicine', 'Phd in medicine', 'PHD in Medicine', '#MD', 'Doctor of Medicine', 'Canadian Doctor', 'Dr.',  \"Anesthesiology\",    \"Cardiology\",    \"Dermatology\",    \"Emergency Medicine\",    \"Family Medicine\",    \"Gastroenterology\",    \"General Surgery\",    \"Internal Medicine\",    \"Neurology\",    \"Obstetrics and Gynecology\",    \"Oncology\",    \"Ophthalmology\",    \"Orthopedic Surgery\",    \"Pathology\",    \"Pediatrics\",    \"Psychiatry\",    \"Radiology\",    \"Urology\", \"Doctor\"]\n",
    "\n",
    "# Create a list of location keywords\n",
    "location_keywords = ['Canada', 'canada', \"Vancouver\", \"Calgary\", \"Edmonton\", \"Regina\", \"Saskatoon\", \"Winnipeg\", \"Toronto\", \"Ottawa\", \"Montreal\", \"Quebec City\", \"Halifax\", \"Victoria\", \"St. John's\", \"Charlottetown\", \"Yellowknife\", \"Iqaluit\", \"Whitehorse\", \"Fredericton\", \"Kelowna\", \"Abbotsford\", \"Barrie\", \"Hamilton\", \"Kitchener\", \"London, Canada\", \"Windsor\", \"St. Catharines\", \"Guelph\", \"Kingston\", \"Ottawa-Gatineau\", \"Moncton\", \"Sarnia\", \"Sherbrooke\", \"Trois-Rivieres\", \"Thunder Bay\", \"Prince George\", \"Sault Ste. Marie\", \"Red Deer\", \"Bracebridge\", \"Nanaimo\", \"Fort McMurray\", \"Grande Prairie\", \"Sudbury\", \"Saint John\", \"Brandon\", \"Penticton\", \"Kamloops\", \"Chilliwack\", \"Prince Rupert\", \"Fort St. John\", \"Cranbrook\", \"Medicine Hat\", \"Lethbridge\", \"Timmins\", \"Dawson Creek\", \"Kawartha Lakes\", \"Belleville\", \"North Bay\", \"Ajax\", \"Peterborough\", \"Woodstock\", \"Aldershot\", \"Aurora\", \"Brantford\", \"Burlington\", \"Cambridge\", \"Clarington\", \"Cobourg\", \"Collingwood\", \"Cornwall\", \"Dartmouth\", \"Delta\", \"Dryden\", \"Etobicoke\", \"Fort Erie\", \"Gatineau\", \"Guelph\", \"Halton Hills\", \"Hamilton\", \"Kanata\", \"Kapuskasing\", \"Keswick\", \"King City\", \"Kingston\", \"Kitchener\", \"Langley\", \"Leamington\", \"Lincoln\", \"London, Canada\", \"Markham\", \"Milton\", \"Mississauga\", \"Newmarket\", \"Niagara Falls\", \"North York\", \"Oakville\", \"Oshawa\", \"Ottawa\", \"Owen Sound\", \"Pickering\", \"Port Colborne\", \"Prince Albert\", \"Red Deer\", \"Richmond Hill\", \"Sarnia\", \"Sault Ste. Marie\", \"Scarborough\", \"St. Catharines\", \"St. Thomas\", \"Strathroy\", \"Temiskaming Shores\", \"Thorold\", \"Thunder Bay\", \"Trenton\", \"Vaughan\", \"Waterloo\", \"Welland\", \"Weston\", \"Whitby\", \"Willowdale\", \"Windsor\", \"Woodstock\", \"York, Canada\"]\n",
    "\n",
    "# Use boolean indexing to filter the dataframe based on the keywords and location_keywords\n",
    "df = df_2[df_2['description'].str.contains('|'.join(keywords), case=False) & df_2['location'].str.contains('|'.join(location_keywords), case=False)]"
   ]
  },
  {
   "cell_type": "code",
   "execution_count": 11,
   "metadata": {},
   "outputs": [
    {
     "data": {
      "text/plain": [
       "(1068, 27)"
      ]
     },
     "execution_count": 11,
     "metadata": {},
     "output_type": "execute_result"
    }
   ],
   "source": [
    "df.shape"
   ]
  },
  {
   "cell_type": "code",
   "execution_count": 12,
   "metadata": {},
   "outputs": [
    {
     "data": {
      "text/html": [
       "<div>\n",
       "<style scoped>\n",
       "    .dataframe tbody tr th:only-of-type {\n",
       "        vertical-align: middle;\n",
       "    }\n",
       "\n",
       "    .dataframe tbody tr th {\n",
       "        vertical-align: top;\n",
       "    }\n",
       "\n",
       "    .dataframe thead th {\n",
       "        text-align: right;\n",
       "    }\n",
       "</style>\n",
       "<table border=\"1\" class=\"dataframe\">\n",
       "  <thead>\n",
       "    <tr style=\"text-align: right;\">\n",
       "      <th></th>\n",
       "      <th>id</th>\n",
       "      <th>created_at</th>\n",
       "      <th>username</th>\n",
       "      <th>name</th>\n",
       "      <th>description</th>\n",
       "      <th>entities.description.cashtags</th>\n",
       "      <th>entities.description.hashtags</th>\n",
       "      <th>entities.description.mentions</th>\n",
       "      <th>entities.description.urls</th>\n",
       "      <th>entities.url.urls</th>\n",
       "      <th>...</th>\n",
       "      <th>public_metrics.tweet_count</th>\n",
       "      <th>url</th>\n",
       "      <th>verified</th>\n",
       "      <th>verified_type</th>\n",
       "      <th>withheld.scope</th>\n",
       "      <th>withheld.copyright</th>\n",
       "      <th>withheld.country_codes</th>\n",
       "      <th>__twarc.retrieved_at</th>\n",
       "      <th>__twarc.url</th>\n",
       "      <th>__twarc.version</th>\n",
       "    </tr>\n",
       "  </thead>\n",
       "  <tbody>\n",
       "    <tr>\n",
       "      <th>60</th>\n",
       "      <td>1236031388933074951</td>\n",
       "      <td>2020-03-06T20:50:30.000Z</td>\n",
       "      <td>ScottZablotny</td>\n",
       "      <td>Scott Zablotny</td>\n",
       "      <td>MS4 @thenosm | Interested in Emergency Medicin...</td>\n",
       "      <td>NaN</td>\n",
       "      <td>NaN</td>\n",
       "      <td>[\"@thenosm\", \"@uOttawa\"]</td>\n",
       "      <td>NaN</td>\n",
       "      <td>NaN</td>\n",
       "      <td>...</td>\n",
       "      <td>9</td>\n",
       "      <td>NaN</td>\n",
       "      <td>False</td>\n",
       "      <td>NaN</td>\n",
       "      <td>NaN</td>\n",
       "      <td>NaN</td>\n",
       "      <td>NaN</td>\n",
       "      <td>2023-01-24T13:03:50+00:00</td>\n",
       "      <td>https://api.twitter.com/2/users?tweet.fields=a...</td>\n",
       "      <td>2.13.0</td>\n",
       "    </tr>\n",
       "    <tr>\n",
       "      <th>62</th>\n",
       "      <td>56772461</td>\n",
       "      <td>2009-07-14T18:27:34.000Z</td>\n",
       "      <td>ShorensteinCtr</td>\n",
       "      <td>Shorenstein Center</td>\n",
       "      <td>Shorenstein Center on Media, Politics and Publ...</td>\n",
       "      <td>NaN</td>\n",
       "      <td>NaN</td>\n",
       "      <td>[\"@Kennedy_School\", \"@JournoResource\"]</td>\n",
       "      <td>NaN</td>\n",
       "      <td>[\"http://shorensteincenter.org/\"]</td>\n",
       "      <td>...</td>\n",
       "      <td>18121</td>\n",
       "      <td>http://shorensteincenter.org/</td>\n",
       "      <td>False</td>\n",
       "      <td>NaN</td>\n",
       "      <td>NaN</td>\n",
       "      <td>NaN</td>\n",
       "      <td>NaN</td>\n",
       "      <td>2023-01-24T13:03:50+00:00</td>\n",
       "      <td>https://api.twitter.com/2/users?tweet.fields=a...</td>\n",
       "      <td>2.13.0</td>\n",
       "    </tr>\n",
       "    <tr>\n",
       "      <th>70</th>\n",
       "      <td>3673789718</td>\n",
       "      <td>2015-09-24T20:01:12.000Z</td>\n",
       "      <td>EmergMed558</td>\n",
       "      <td>UGME EM UAlberta</td>\n",
       "      <td>University of Alberta's Emergency Medicine Und...</td>\n",
       "      <td>NaN</td>\n",
       "      <td>NaN</td>\n",
       "      <td>NaN</td>\n",
       "      <td>NaN</td>\n",
       "      <td>NaN</td>\n",
       "      <td>...</td>\n",
       "      <td>438</td>\n",
       "      <td>NaN</td>\n",
       "      <td>False</td>\n",
       "      <td>NaN</td>\n",
       "      <td>NaN</td>\n",
       "      <td>NaN</td>\n",
       "      <td>NaN</td>\n",
       "      <td>2023-01-24T13:03:50+00:00</td>\n",
       "      <td>https://api.twitter.com/2/users?tweet.fields=a...</td>\n",
       "      <td>2.13.0</td>\n",
       "    </tr>\n",
       "    <tr>\n",
       "      <th>71</th>\n",
       "      <td>4915464449</td>\n",
       "      <td>2016-02-15T20:17:06.000Z</td>\n",
       "      <td>jashearn</td>\n",
       "      <td>Jason Hearn</td>\n",
       "      <td>IM @ Dal &amp; Medicine @ MUN👨‍⚕️ | Biomedical Eng...</td>\n",
       "      <td>NaN</td>\n",
       "      <td>NaN</td>\n",
       "      <td>NaN</td>\n",
       "      <td>NaN</td>\n",
       "      <td>NaN</td>\n",
       "      <td>...</td>\n",
       "      <td>77</td>\n",
       "      <td>NaN</td>\n",
       "      <td>False</td>\n",
       "      <td>NaN</td>\n",
       "      <td>NaN</td>\n",
       "      <td>NaN</td>\n",
       "      <td>NaN</td>\n",
       "      <td>2023-01-24T13:03:50+00:00</td>\n",
       "      <td>https://api.twitter.com/2/users?tweet.fields=a...</td>\n",
       "      <td>2.13.0</td>\n",
       "    </tr>\n",
       "    <tr>\n",
       "      <th>106</th>\n",
       "      <td>765234247141515268</td>\n",
       "      <td>2016-08-15T17:10:36.000Z</td>\n",
       "      <td>GenWSHancock</td>\n",
       "      <td>Winfield Scott Hancock 🇺🇲 🇺🇦 🇹🇼 🟩🦁☀️🟥 ♣️</td>\n",
       "      <td>Major General, II Corps, #NAFO Army of Potomac...</td>\n",
       "      <td>NaN</td>\n",
       "      <td>[\"#NAFO\"]</td>\n",
       "      <td>NaN</td>\n",
       "      <td>NaN</td>\n",
       "      <td>[\"https://gettysburg.stonesentinels.com/union-...</td>\n",
       "      <td>...</td>\n",
       "      <td>5239</td>\n",
       "      <td>https://gettysburg.stonesentinels.com/union-he...</td>\n",
       "      <td>False</td>\n",
       "      <td>NaN</td>\n",
       "      <td>NaN</td>\n",
       "      <td>NaN</td>\n",
       "      <td>NaN</td>\n",
       "      <td>2023-01-24T13:03:51+00:00</td>\n",
       "      <td>https://api.twitter.com/2/users?tweet.fields=a...</td>\n",
       "      <td>2.13.0</td>\n",
       "    </tr>\n",
       "    <tr>\n",
       "      <th>...</th>\n",
       "      <td>...</td>\n",
       "      <td>...</td>\n",
       "      <td>...</td>\n",
       "      <td>...</td>\n",
       "      <td>...</td>\n",
       "      <td>...</td>\n",
       "      <td>...</td>\n",
       "      <td>...</td>\n",
       "      <td>...</td>\n",
       "      <td>...</td>\n",
       "      <td>...</td>\n",
       "      <td>...</td>\n",
       "      <td>...</td>\n",
       "      <td>...</td>\n",
       "      <td>...</td>\n",
       "      <td>...</td>\n",
       "      <td>...</td>\n",
       "      <td>...</td>\n",
       "      <td>...</td>\n",
       "      <td>...</td>\n",
       "      <td>...</td>\n",
       "    </tr>\n",
       "    <tr>\n",
       "      <th>29879</th>\n",
       "      <td>51230826</td>\n",
       "      <td>2009-06-26T21:20:46.000Z</td>\n",
       "      <td>KatieGriffinCTV</td>\n",
       "      <td>Katie Griffin</td>\n",
       "      <td>@CTVOttawa Reporter/Anchor. Instructor. Lover ...</td>\n",
       "      <td>NaN</td>\n",
       "      <td>NaN</td>\n",
       "      <td>[\"@CTVOttawa\"]</td>\n",
       "      <td>NaN</td>\n",
       "      <td>[\"http://CTVNewsOttawa.ca\"]</td>\n",
       "      <td>...</td>\n",
       "      <td>9598</td>\n",
       "      <td>http://CTVNewsOttawa.ca</td>\n",
       "      <td>False</td>\n",
       "      <td>NaN</td>\n",
       "      <td>NaN</td>\n",
       "      <td>NaN</td>\n",
       "      <td>NaN</td>\n",
       "      <td>2023-01-24T13:08:10+00:00</td>\n",
       "      <td>https://api.twitter.com/2/users?tweet.fields=a...</td>\n",
       "      <td>2.13.0</td>\n",
       "    </tr>\n",
       "    <tr>\n",
       "      <th>29898</th>\n",
       "      <td>3497229613</td>\n",
       "      <td>2015-09-08T21:34:13.000Z</td>\n",
       "      <td>mniels4</td>\n",
       "      <td>Michelle Nielsen</td>\n",
       "      <td>Medical Physicist, transplant recipient, amate...</td>\n",
       "      <td>NaN</td>\n",
       "      <td>NaN</td>\n",
       "      <td>NaN</td>\n",
       "      <td>NaN</td>\n",
       "      <td>NaN</td>\n",
       "      <td>...</td>\n",
       "      <td>90</td>\n",
       "      <td>NaN</td>\n",
       "      <td>False</td>\n",
       "      <td>NaN</td>\n",
       "      <td>NaN</td>\n",
       "      <td>NaN</td>\n",
       "      <td>NaN</td>\n",
       "      <td>2023-01-24T13:08:11+00:00</td>\n",
       "      <td>https://api.twitter.com/2/users?tweet.fields=a...</td>\n",
       "      <td>2.13.0</td>\n",
       "    </tr>\n",
       "    <tr>\n",
       "      <th>29899</th>\n",
       "      <td>570148659</td>\n",
       "      <td>2012-05-03T15:38:20.000Z</td>\n",
       "      <td>CThornton32</td>\n",
       "      <td>Christina Thornton</td>\n",
       "      <td>Assistant Prof @caldommed | CFF Postdoc Fellow...</td>\n",
       "      <td>NaN</td>\n",
       "      <td>NaN</td>\n",
       "      <td>[\"@caldommed\", \"@umich\", \"@Ucalgary\", \"@ucalga...</td>\n",
       "      <td>NaN</td>\n",
       "      <td>NaN</td>\n",
       "      <td>...</td>\n",
       "      <td>1358</td>\n",
       "      <td>NaN</td>\n",
       "      <td>False</td>\n",
       "      <td>NaN</td>\n",
       "      <td>NaN</td>\n",
       "      <td>NaN</td>\n",
       "      <td>NaN</td>\n",
       "      <td>2023-01-24T13:08:11+00:00</td>\n",
       "      <td>https://api.twitter.com/2/users?tweet.fields=a...</td>\n",
       "      <td>2.13.0</td>\n",
       "    </tr>\n",
       "    <tr>\n",
       "      <th>29922</th>\n",
       "      <td>70486502</td>\n",
       "      <td>2009-08-31T20:07:51.000Z</td>\n",
       "      <td>donnafansk</td>\n",
       "      <td>Donna Fan</td>\n",
       "      <td>| @Usask Medicine Class of '16 | \\n\\nInterests...</td>\n",
       "      <td>NaN</td>\n",
       "      <td>NaN</td>\n",
       "      <td>[\"@Usask\"]</td>\n",
       "      <td>NaN</td>\n",
       "      <td>NaN</td>\n",
       "      <td>...</td>\n",
       "      <td>233</td>\n",
       "      <td>NaN</td>\n",
       "      <td>False</td>\n",
       "      <td>NaN</td>\n",
       "      <td>NaN</td>\n",
       "      <td>NaN</td>\n",
       "      <td>NaN</td>\n",
       "      <td>2023-01-24T13:08:11+00:00</td>\n",
       "      <td>https://api.twitter.com/2/users?tweet.fields=a...</td>\n",
       "      <td>2.13.0</td>\n",
       "    </tr>\n",
       "    <tr>\n",
       "      <th>29950</th>\n",
       "      <td>818154242477277186</td>\n",
       "      <td>2017-01-08T17:55:46.000Z</td>\n",
       "      <td>MaryamBadv</td>\n",
       "      <td>Maryam Badv</td>\n",
       "      <td>Assistant Professor @UCalgary @SchulichENGG | ...</td>\n",
       "      <td>NaN</td>\n",
       "      <td>NaN</td>\n",
       "      <td>[\"@UCalgary\", \"@SchulichENGG\", \"@UCLA\", \"@McMa...</td>\n",
       "      <td>NaN</td>\n",
       "      <td>[\"https://badvlab.com/\"]</td>\n",
       "      <td>...</td>\n",
       "      <td>120</td>\n",
       "      <td>https://badvlab.com/</td>\n",
       "      <td>False</td>\n",
       "      <td>NaN</td>\n",
       "      <td>NaN</td>\n",
       "      <td>NaN</td>\n",
       "      <td>NaN</td>\n",
       "      <td>2023-01-24T13:08:11+00:00</td>\n",
       "      <td>https://api.twitter.com/2/users?tweet.fields=a...</td>\n",
       "      <td>2.13.0</td>\n",
       "    </tr>\n",
       "  </tbody>\n",
       "</table>\n",
       "<p>1068 rows × 27 columns</p>\n",
       "</div>"
      ],
      "text/plain": [
       "                        id                created_at         username  \\\n",
       "60     1236031388933074951  2020-03-06T20:50:30.000Z    ScottZablotny   \n",
       "62                56772461  2009-07-14T18:27:34.000Z   ShorensteinCtr   \n",
       "70              3673789718  2015-09-24T20:01:12.000Z      EmergMed558   \n",
       "71              4915464449  2016-02-15T20:17:06.000Z         jashearn   \n",
       "106     765234247141515268  2016-08-15T17:10:36.000Z     GenWSHancock   \n",
       "...                    ...                       ...              ...   \n",
       "29879             51230826  2009-06-26T21:20:46.000Z  KatieGriffinCTV   \n",
       "29898           3497229613  2015-09-08T21:34:13.000Z          mniels4   \n",
       "29899            570148659  2012-05-03T15:38:20.000Z      CThornton32   \n",
       "29922             70486502  2009-08-31T20:07:51.000Z       donnafansk   \n",
       "29950   818154242477277186  2017-01-08T17:55:46.000Z       MaryamBadv   \n",
       "\n",
       "                                           name  \\\n",
       "60                               Scott Zablotny   \n",
       "62                           Shorenstein Center   \n",
       "70                             UGME EM UAlberta   \n",
       "71                                  Jason Hearn   \n",
       "106    Winfield Scott Hancock 🇺🇲 🇺🇦 🇹🇼 🟩🦁☀️🟥 ♣️   \n",
       "...                                         ...   \n",
       "29879                             Katie Griffin   \n",
       "29898                          Michelle Nielsen   \n",
       "29899                        Christina Thornton   \n",
       "29922                                 Donna Fan   \n",
       "29950                               Maryam Badv   \n",
       "\n",
       "                                             description  \\\n",
       "60     MS4 @thenosm | Interested in Emergency Medicin...   \n",
       "62     Shorenstein Center on Media, Politics and Publ...   \n",
       "70     University of Alberta's Emergency Medicine Und...   \n",
       "71     IM @ Dal & Medicine @ MUN👨‍⚕️ | Biomedical Eng...   \n",
       "106    Major General, II Corps, #NAFO Army of Potomac...   \n",
       "...                                                  ...   \n",
       "29879  @CTVOttawa Reporter/Anchor. Instructor. Lover ...   \n",
       "29898  Medical Physicist, transplant recipient, amate...   \n",
       "29899  Assistant Prof @caldommed | CFF Postdoc Fellow...   \n",
       "29922  | @Usask Medicine Class of '16 | \\n\\nInterests...   \n",
       "29950  Assistant Professor @UCalgary @SchulichENGG | ...   \n",
       "\n",
       "      entities.description.cashtags entities.description.hashtags  \\\n",
       "60                              NaN                           NaN   \n",
       "62                              NaN                           NaN   \n",
       "70                              NaN                           NaN   \n",
       "71                              NaN                           NaN   \n",
       "106                             NaN                     [\"#NAFO\"]   \n",
       "...                             ...                           ...   \n",
       "29879                           NaN                           NaN   \n",
       "29898                           NaN                           NaN   \n",
       "29899                           NaN                           NaN   \n",
       "29922                           NaN                           NaN   \n",
       "29950                           NaN                           NaN   \n",
       "\n",
       "                           entities.description.mentions  \\\n",
       "60                              [\"@thenosm\", \"@uOttawa\"]   \n",
       "62                [\"@Kennedy_School\", \"@JournoResource\"]   \n",
       "70                                                   NaN   \n",
       "71                                                   NaN   \n",
       "106                                                  NaN   \n",
       "...                                                  ...   \n",
       "29879                                     [\"@CTVOttawa\"]   \n",
       "29898                                                NaN   \n",
       "29899  [\"@caldommed\", \"@umich\", \"@Ucalgary\", \"@ucalga...   \n",
       "29922                                         [\"@Usask\"]   \n",
       "29950  [\"@UCalgary\", \"@SchulichENGG\", \"@UCLA\", \"@McMa...   \n",
       "\n",
       "      entities.description.urls  \\\n",
       "60                          NaN   \n",
       "62                          NaN   \n",
       "70                          NaN   \n",
       "71                          NaN   \n",
       "106                         NaN   \n",
       "...                         ...   \n",
       "29879                       NaN   \n",
       "29898                       NaN   \n",
       "29899                       NaN   \n",
       "29922                       NaN   \n",
       "29950                       NaN   \n",
       "\n",
       "                                       entities.url.urls  ...  \\\n",
       "60                                                   NaN  ...   \n",
       "62                     [\"http://shorensteincenter.org/\"]  ...   \n",
       "70                                                   NaN  ...   \n",
       "71                                                   NaN  ...   \n",
       "106    [\"https://gettysburg.stonesentinels.com/union-...  ...   \n",
       "...                                                  ...  ...   \n",
       "29879                        [\"http://CTVNewsOttawa.ca\"]  ...   \n",
       "29898                                                NaN  ...   \n",
       "29899                                                NaN  ...   \n",
       "29922                                                NaN  ...   \n",
       "29950                           [\"https://badvlab.com/\"]  ...   \n",
       "\n",
       "      public_metrics.tweet_count  \\\n",
       "60                             9   \n",
       "62                         18121   \n",
       "70                           438   \n",
       "71                            77   \n",
       "106                         5239   \n",
       "...                          ...   \n",
       "29879                       9598   \n",
       "29898                         90   \n",
       "29899                       1358   \n",
       "29922                        233   \n",
       "29950                        120   \n",
       "\n",
       "                                                     url verified  \\\n",
       "60                                                   NaN    False   \n",
       "62                         http://shorensteincenter.org/    False   \n",
       "70                                                   NaN    False   \n",
       "71                                                   NaN    False   \n",
       "106    https://gettysburg.stonesentinels.com/union-he...    False   \n",
       "...                                                  ...      ...   \n",
       "29879                            http://CTVNewsOttawa.ca    False   \n",
       "29898                                                NaN    False   \n",
       "29899                                                NaN    False   \n",
       "29922                                                NaN    False   \n",
       "29950                               https://badvlab.com/    False   \n",
       "\n",
       "       verified_type  withheld.scope  withheld.copyright  \\\n",
       "60               NaN             NaN                 NaN   \n",
       "62               NaN             NaN                 NaN   \n",
       "70               NaN             NaN                 NaN   \n",
       "71               NaN             NaN                 NaN   \n",
       "106              NaN             NaN                 NaN   \n",
       "...              ...             ...                 ...   \n",
       "29879            NaN             NaN                 NaN   \n",
       "29898            NaN             NaN                 NaN   \n",
       "29899            NaN             NaN                 NaN   \n",
       "29922            NaN             NaN                 NaN   \n",
       "29950            NaN             NaN                 NaN   \n",
       "\n",
       "       withheld.country_codes       __twarc.retrieved_at  \\\n",
       "60                        NaN  2023-01-24T13:03:50+00:00   \n",
       "62                        NaN  2023-01-24T13:03:50+00:00   \n",
       "70                        NaN  2023-01-24T13:03:50+00:00   \n",
       "71                        NaN  2023-01-24T13:03:50+00:00   \n",
       "106                       NaN  2023-01-24T13:03:51+00:00   \n",
       "...                       ...                        ...   \n",
       "29879                     NaN  2023-01-24T13:08:10+00:00   \n",
       "29898                     NaN  2023-01-24T13:08:11+00:00   \n",
       "29899                     NaN  2023-01-24T13:08:11+00:00   \n",
       "29922                     NaN  2023-01-24T13:08:11+00:00   \n",
       "29950                     NaN  2023-01-24T13:08:11+00:00   \n",
       "\n",
       "                                             __twarc.url  __twarc.version  \n",
       "60     https://api.twitter.com/2/users?tweet.fields=a...           2.13.0  \n",
       "62     https://api.twitter.com/2/users?tweet.fields=a...           2.13.0  \n",
       "70     https://api.twitter.com/2/users?tweet.fields=a...           2.13.0  \n",
       "71     https://api.twitter.com/2/users?tweet.fields=a...           2.13.0  \n",
       "106    https://api.twitter.com/2/users?tweet.fields=a...           2.13.0  \n",
       "...                                                  ...              ...  \n",
       "29879  https://api.twitter.com/2/users?tweet.fields=a...           2.13.0  \n",
       "29898  https://api.twitter.com/2/users?tweet.fields=a...           2.13.0  \n",
       "29899  https://api.twitter.com/2/users?tweet.fields=a...           2.13.0  \n",
       "29922  https://api.twitter.com/2/users?tweet.fields=a...           2.13.0  \n",
       "29950  https://api.twitter.com/2/users?tweet.fields=a...           2.13.0  \n",
       "\n",
       "[1068 rows x 27 columns]"
      ]
     },
     "execution_count": 12,
     "metadata": {},
     "output_type": "execute_result"
    }
   ],
   "source": [
    "df.drop(columns=['entities.description.cashtags',\t'entities.description.hashtags',\t'entities.description.mentions'\t,'entities.description.urls'\t,'entities.url.urls'])\n",
    "\n",
    "\n",
    "df \n"
   ]
  },
  {
   "cell_type": "code",
   "execution_count": 13,
   "metadata": {},
   "outputs": [],
   "source": [
    "df['username'].to_csv(\"usernames.txt\", index=False, header=False)"
   ]
  },
  {
   "cell_type": "code",
   "execution_count": 14,
   "metadata": {},
   "outputs": [
    {
     "data": {
      "text/html": [
       "<div>\n",
       "<style scoped>\n",
       "    .dataframe tbody tr th:only-of-type {\n",
       "        vertical-align: middle;\n",
       "    }\n",
       "\n",
       "    .dataframe tbody tr th {\n",
       "        vertical-align: top;\n",
       "    }\n",
       "\n",
       "    .dataframe thead th {\n",
       "        text-align: right;\n",
       "    }\n",
       "</style>\n",
       "<table border=\"1\" class=\"dataframe\">\n",
       "  <thead>\n",
       "    <tr style=\"text-align: right;\">\n",
       "      <th></th>\n",
       "      <th>data</th>\n",
       "      <th>includes</th>\n",
       "      <th>meta</th>\n",
       "      <th>__twarc</th>\n",
       "      <th>errors</th>\n",
       "    </tr>\n",
       "  </thead>\n",
       "  <tbody>\n",
       "    <tr>\n",
       "      <th>0</th>\n",
       "      <td>[{'conversation_id': '1305964036593528832', 'l...</td>\n",
       "      <td>{'media': [{'type': 'photo', 'url': 'https://p...</td>\n",
       "      <td>{'result_count': 3, 'newest_id': '130602635889...</td>\n",
       "      <td>{'url': 'https://api.twitter.com/2/users/12360...</td>\n",
       "      <td>NaN</td>\n",
       "    </tr>\n",
       "    <tr>\n",
       "      <th>1</th>\n",
       "      <td>[{'entities': {'mentions': [{'start': 1, 'end'...</td>\n",
       "      <td>{'users': [{'url': 'https://t.co/00oNzNngtQ', ...</td>\n",
       "      <td>{'result_count': 100, 'newest_id': '1311380294...</td>\n",
       "      <td>{'url': 'https://api.twitter.com/2/users/56772...</td>\n",
       "      <td>[{'resource_id': 'kathytpham', 'parameter': 'e...</td>\n",
       "    </tr>\n",
       "    <tr>\n",
       "      <th>2</th>\n",
       "      <td>[{'text': 'RT @MattPerault: A deep dive on yes...</td>\n",
       "      <td>{'users': [{'created_at': '2009-07-14T18:27:34...</td>\n",
       "      <td>{'next_token': '7140dibdnow9c7btw3t4674yjt2ule...</td>\n",
       "      <td>{'url': 'https://api.twitter.com/2/users/56772...</td>\n",
       "      <td>[{'value': 'Goodman_Writer', 'detail': 'Could ...</td>\n",
       "    </tr>\n",
       "    <tr>\n",
       "      <th>3</th>\n",
       "      <td>[{'entities': {'urls': [{'start': 117, 'end': ...</td>\n",
       "      <td>{'users': [{'verified': False, 'username': 'Sh...</td>\n",
       "      <td>{'next_token': '7140dibdnow9c7btw3t3qzgoucqrlw...</td>\n",
       "      <td>{'url': 'https://api.twitter.com/2/users/56772...</td>\n",
       "      <td>[{'value': 'aprilaser', 'detail': 'Could not f...</td>\n",
       "    </tr>\n",
       "    <tr>\n",
       "      <th>4</th>\n",
       "      <td>[{'conversation_id': '1263869356351651841', 'l...</td>\n",
       "      <td>{'media': [{'type': 'photo', 'url': 'https://p...</td>\n",
       "      <td>{'previous_token': '77qpymm88g5h9vqkluif7ez1lc...</td>\n",
       "      <td>{'url': 'https://api.twitter.com/2/users/56772...</td>\n",
       "      <td>[{'value': 'aprilaser', 'detail': 'Could not f...</td>\n",
       "    </tr>\n",
       "    <tr>\n",
       "      <th>...</th>\n",
       "      <td>...</td>\n",
       "      <td>...</td>\n",
       "      <td>...</td>\n",
       "      <td>...</td>\n",
       "      <td>...</td>\n",
       "    </tr>\n",
       "    <tr>\n",
       "      <th>2362</th>\n",
       "      <td>[{'reply_settings': 'everyone', 'author_id': '...</td>\n",
       "      <td>{'users': [{'username': 'mniels4', 'public_met...</td>\n",
       "      <td>{'result_count': 21, 'newest_id': '13096687357...</td>\n",
       "      <td>{'url': 'https://api.twitter.com/2/users/34972...</td>\n",
       "      <td>NaN</td>\n",
       "    </tr>\n",
       "    <tr>\n",
       "      <th>2363</th>\n",
       "      <td>[{'edit_history_tweet_ids': ['1310353551907061...</td>\n",
       "      <td>{'media': [{'type': 'photo', 'url': 'https://p...</td>\n",
       "      <td>{'next_token': '7140dibdnow9c7btw3t3qzew28sx64...</td>\n",
       "      <td>{'url': 'https://api.twitter.com/2/users/57014...</td>\n",
       "      <td>[{'value': '1268265706220433408', 'detail': 'C...</td>\n",
       "    </tr>\n",
       "    <tr>\n",
       "      <th>2364</th>\n",
       "      <td>[{'id': '1262246356665552897', 'in_reply_to_us...</td>\n",
       "      <td>{'users': [{'public_metrics': {'followers_coun...</td>\n",
       "      <td>{'previous_token': '77qpymm88g5h9vqkluif7csime...</td>\n",
       "      <td>{'url': 'https://api.twitter.com/2/users/57014...</td>\n",
       "      <td>[{'value': '1173990600565121024', 'detail': 'C...</td>\n",
       "    </tr>\n",
       "    <tr>\n",
       "      <th>2365</th>\n",
       "      <td>[{'referenced_tweets': [{'type': 'retweeted', ...</td>\n",
       "      <td>{'users': [{'entities': {'description': {'ment...</td>\n",
       "      <td>{'previous_token': '77qpymm88g5h9vqkluicoaveqc...</td>\n",
       "      <td>{'url': 'https://api.twitter.com/2/users/57014...</td>\n",
       "      <td>NaN</td>\n",
       "    </tr>\n",
       "    <tr>\n",
       "      <th>2366</th>\n",
       "      <td>[{'reply_settings': 'everyone', 'lang': 'en', ...</td>\n",
       "      <td>{'users': [{'location': 'Calgary, Alberta', 'p...</td>\n",
       "      <td>{'result_count': 12, 'newest_id': '13085775336...</td>\n",
       "      <td>{'url': 'https://api.twitter.com/2/users/81815...</td>\n",
       "      <td>NaN</td>\n",
       "    </tr>\n",
       "  </tbody>\n",
       "</table>\n",
       "<p>2367 rows × 5 columns</p>\n",
       "</div>"
      ],
      "text/plain": [
       "                                                   data  \\\n",
       "0     [{'conversation_id': '1305964036593528832', 'l...   \n",
       "1     [{'entities': {'mentions': [{'start': 1, 'end'...   \n",
       "2     [{'text': 'RT @MattPerault: A deep dive on yes...   \n",
       "3     [{'entities': {'urls': [{'start': 117, 'end': ...   \n",
       "4     [{'conversation_id': '1263869356351651841', 'l...   \n",
       "...                                                 ...   \n",
       "2362  [{'reply_settings': 'everyone', 'author_id': '...   \n",
       "2363  [{'edit_history_tweet_ids': ['1310353551907061...   \n",
       "2364  [{'id': '1262246356665552897', 'in_reply_to_us...   \n",
       "2365  [{'referenced_tweets': [{'type': 'retweeted', ...   \n",
       "2366  [{'reply_settings': 'everyone', 'lang': 'en', ...   \n",
       "\n",
       "                                               includes  \\\n",
       "0     {'media': [{'type': 'photo', 'url': 'https://p...   \n",
       "1     {'users': [{'url': 'https://t.co/00oNzNngtQ', ...   \n",
       "2     {'users': [{'created_at': '2009-07-14T18:27:34...   \n",
       "3     {'users': [{'verified': False, 'username': 'Sh...   \n",
       "4     {'media': [{'type': 'photo', 'url': 'https://p...   \n",
       "...                                                 ...   \n",
       "2362  {'users': [{'username': 'mniels4', 'public_met...   \n",
       "2363  {'media': [{'type': 'photo', 'url': 'https://p...   \n",
       "2364  {'users': [{'public_metrics': {'followers_coun...   \n",
       "2365  {'users': [{'entities': {'description': {'ment...   \n",
       "2366  {'users': [{'location': 'Calgary, Alberta', 'p...   \n",
       "\n",
       "                                                   meta  \\\n",
       "0     {'result_count': 3, 'newest_id': '130602635889...   \n",
       "1     {'result_count': 100, 'newest_id': '1311380294...   \n",
       "2     {'next_token': '7140dibdnow9c7btw3t4674yjt2ule...   \n",
       "3     {'next_token': '7140dibdnow9c7btw3t3qzgoucqrlw...   \n",
       "4     {'previous_token': '77qpymm88g5h9vqkluif7ez1lc...   \n",
       "...                                                 ...   \n",
       "2362  {'result_count': 21, 'newest_id': '13096687357...   \n",
       "2363  {'next_token': '7140dibdnow9c7btw3t3qzew28sx64...   \n",
       "2364  {'previous_token': '77qpymm88g5h9vqkluif7csime...   \n",
       "2365  {'previous_token': '77qpymm88g5h9vqkluicoaveqc...   \n",
       "2366  {'result_count': 12, 'newest_id': '13085775336...   \n",
       "\n",
       "                                                __twarc  \\\n",
       "0     {'url': 'https://api.twitter.com/2/users/12360...   \n",
       "1     {'url': 'https://api.twitter.com/2/users/56772...   \n",
       "2     {'url': 'https://api.twitter.com/2/users/56772...   \n",
       "3     {'url': 'https://api.twitter.com/2/users/56772...   \n",
       "4     {'url': 'https://api.twitter.com/2/users/56772...   \n",
       "...                                                 ...   \n",
       "2362  {'url': 'https://api.twitter.com/2/users/34972...   \n",
       "2363  {'url': 'https://api.twitter.com/2/users/57014...   \n",
       "2364  {'url': 'https://api.twitter.com/2/users/57014...   \n",
       "2365  {'url': 'https://api.twitter.com/2/users/57014...   \n",
       "2366  {'url': 'https://api.twitter.com/2/users/81815...   \n",
       "\n",
       "                                                 errors  \n",
       "0                                                   NaN  \n",
       "1     [{'resource_id': 'kathytpham', 'parameter': 'e...  \n",
       "2     [{'value': 'Goodman_Writer', 'detail': 'Could ...  \n",
       "3     [{'value': 'aprilaser', 'detail': 'Could not f...  \n",
       "4     [{'value': 'aprilaser', 'detail': 'Could not f...  \n",
       "...                                                 ...  \n",
       "2362                                                NaN  \n",
       "2363  [{'value': '1268265706220433408', 'detail': 'C...  \n",
       "2364  [{'value': '1173990600565121024', 'detail': 'C...  \n",
       "2365                                                NaN  \n",
       "2366                                                NaN  \n",
       "\n",
       "[2367 rows x 5 columns]"
      ]
     },
     "execution_count": 14,
     "metadata": {},
     "output_type": "execute_result"
    }
   ],
   "source": [
    "import jsonlines\n",
    "\n",
    "useractivity = []\n",
    "\n",
    "# Load the first JSON file\n",
    "with jsonlines.open('question_4.json') as f:\n",
    "    useractivity.extend(f)\n",
    "\n",
    "# Load the second JSON file\n",
    "with jsonlines.open('question_4_2.json') as f:\n",
    "    useractivity.extend(f)\n",
    "\n",
    "# Write the result to a new file\n",
    "with jsonlines.open(\"useractivity.jsonl\", mode='w') as f:\n",
    "    f.write_all(useractivity)\n",
    "\n",
    "activity = pd.DataFrame(useractivity)\n",
    "\n",
    "activity"
   ]
  },
  {
   "cell_type": "code",
   "execution_count": 15,
   "metadata": {},
   "outputs": [],
   "source": [
    "tweets_df_l = []\n",
    "for dictionary in activity['data'].tolist():\n",
    "    tweets_df_l.append(pd.DataFrame(dictionary))"
   ]
  },
  {
   "cell_type": "code",
   "execution_count": 16,
   "metadata": {},
   "outputs": [
    {
     "data": {
      "text/html": [
       "<div>\n",
       "<style scoped>\n",
       "    .dataframe tbody tr th:only-of-type {\n",
       "        vertical-align: middle;\n",
       "    }\n",
       "\n",
       "    .dataframe tbody tr th {\n",
       "        vertical-align: top;\n",
       "    }\n",
       "\n",
       "    .dataframe thead th {\n",
       "        text-align: right;\n",
       "    }\n",
       "</style>\n",
       "<table border=\"1\" class=\"dataframe\">\n",
       "  <thead>\n",
       "    <tr style=\"text-align: right;\">\n",
       "      <th></th>\n",
       "      <th>conversation_id</th>\n",
       "      <th>lang</th>\n",
       "      <th>id</th>\n",
       "      <th>created_at</th>\n",
       "      <th>reply_settings</th>\n",
       "      <th>context_annotations</th>\n",
       "      <th>entities</th>\n",
       "      <th>attachments</th>\n",
       "      <th>edit_controls</th>\n",
       "      <th>in_reply_to_user_id</th>\n",
       "      <th>text</th>\n",
       "      <th>author_id</th>\n",
       "      <th>edit_history_tweet_ids</th>\n",
       "      <th>public_metrics</th>\n",
       "      <th>possibly_sensitive</th>\n",
       "      <th>referenced_tweets</th>\n",
       "      <th>geo</th>\n",
       "      <th>withheld</th>\n",
       "    </tr>\n",
       "  </thead>\n",
       "  <tbody>\n",
       "    <tr>\n",
       "      <th>0</th>\n",
       "      <td>1305964036593528832</td>\n",
       "      <td>en</td>\n",
       "      <td>1306026358896758784</td>\n",
       "      <td>2020-09-16T00:25:23.000Z</td>\n",
       "      <td>everyone</td>\n",
       "      <td>[{'domain': {'id': '65', 'name': 'Interests an...</td>\n",
       "      <td>{'urls': [{'start': 295, 'end': 318, 'url': 'h...</td>\n",
       "      <td>{'media_keys': ['3_1306026354333319168']}</td>\n",
       "      <td>{'edits_remaining': 5, 'is_edit_eligible': Tru...</td>\n",
       "      <td>165638031</td>\n",
       "      <td>@nolan_madeleine @ddsv3 @thenosm #NOSMRollCall...</td>\n",
       "      <td>1236031388933074951</td>\n",
       "      <td>[1306026358896758784]</td>\n",
       "      <td>{'retweet_count': 2, 'reply_count': 0, 'like_c...</td>\n",
       "      <td>False</td>\n",
       "      <td>[{'type': 'replied_to', 'id': '130596403659352...</td>\n",
       "      <td>NaN</td>\n",
       "      <td>NaN</td>\n",
       "    </tr>\n",
       "    <tr>\n",
       "      <th>1</th>\n",
       "      <td>1305656494256517121</td>\n",
       "      <td>en</td>\n",
       "      <td>1305656494256517121</td>\n",
       "      <td>2020-09-14T23:55:40.000Z</td>\n",
       "      <td>everyone</td>\n",
       "      <td>NaN</td>\n",
       "      <td>{'mentions': [{'start': 3, 'end': 9, 'username...</td>\n",
       "      <td>NaN</td>\n",
       "      <td>{'edits_remaining': 5, 'is_edit_eligible': Tru...</td>\n",
       "      <td>NaN</td>\n",
       "      <td>RT @ddsv3: TWEETUP @thenosm @_justinam @nolan_...</td>\n",
       "      <td>1236031388933074951</td>\n",
       "      <td>[1305656494256517121]</td>\n",
       "      <td>{'retweet_count': 4, 'reply_count': 0, 'like_c...</td>\n",
       "      <td>False</td>\n",
       "      <td>[{'type': 'retweeted', 'id': '1305655825449586...</td>\n",
       "      <td>NaN</td>\n",
       "      <td>NaN</td>\n",
       "    </tr>\n",
       "    <tr>\n",
       "      <th>2</th>\n",
       "      <td>1288624317379555328</td>\n",
       "      <td>en</td>\n",
       "      <td>1288624317379555328</td>\n",
       "      <td>2020-07-29T23:55:53.000Z</td>\n",
       "      <td>everyone</td>\n",
       "      <td>NaN</td>\n",
       "      <td>{'urls': [{'start': 186, 'end': 209, 'url': 'h...</td>\n",
       "      <td>NaN</td>\n",
       "      <td>{'edits_remaining': 5, 'is_edit_eligible': Tru...</td>\n",
       "      <td>NaN</td>\n",
       "      <td>Inspiring TEDx Talk given by my mentor @moradh...</td>\n",
       "      <td>1236031388933074951</td>\n",
       "      <td>[1288624317379555328]</td>\n",
       "      <td>{'retweet_count': 1, 'reply_count': 0, 'like_c...</td>\n",
       "      <td>False</td>\n",
       "      <td>NaN</td>\n",
       "      <td>NaN</td>\n",
       "      <td>NaN</td>\n",
       "    </tr>\n",
       "    <tr>\n",
       "      <th>3</th>\n",
       "      <td>1311380294671503360</td>\n",
       "      <td>en</td>\n",
       "      <td>1311380294671503360</td>\n",
       "      <td>2020-09-30T19:00:01.000Z</td>\n",
       "      <td>everyone</td>\n",
       "      <td>[{'domain': {'id': '45', 'name': 'Brand Vertic...</td>\n",
       "      <td>{'mentions': [{'start': 1, 'end': 12, 'usernam...</td>\n",
       "      <td>NaN</td>\n",
       "      <td>{'edits_remaining': 5, 'is_edit_eligible': Tru...</td>\n",
       "      <td>NaN</td>\n",
       "      <td>.@BostonJoan discusses a coordinated push of c...</td>\n",
       "      <td>56772461</td>\n",
       "      <td>[1311380294671503360]</td>\n",
       "      <td>{'retweet_count': 6, 'reply_count': 0, 'like_c...</td>\n",
       "      <td>False</td>\n",
       "      <td>NaN</td>\n",
       "      <td>NaN</td>\n",
       "      <td>NaN</td>\n",
       "    </tr>\n",
       "    <tr>\n",
       "      <th>4</th>\n",
       "      <td>1311370559675158529</td>\n",
       "      <td>en</td>\n",
       "      <td>1311370559675158529</td>\n",
       "      <td>2020-09-30T18:21:20.000Z</td>\n",
       "      <td>everyone</td>\n",
       "      <td>[{'domain': {'id': '131', 'name': 'Unified Twi...</td>\n",
       "      <td>{'mentions': [{'start': 139, 'end': 147, 'user...</td>\n",
       "      <td>NaN</td>\n",
       "      <td>{'edits_remaining': 5, 'is_edit_eligible': Tru...</td>\n",
       "      <td>NaN</td>\n",
       "      <td>Did you miss our event \"Confronting Disinforma...</td>\n",
       "      <td>56772461</td>\n",
       "      <td>[1311370559675158529]</td>\n",
       "      <td>{'retweet_count': 14, 'reply_count': 0, 'like_...</td>\n",
       "      <td>False</td>\n",
       "      <td>NaN</td>\n",
       "      <td>NaN</td>\n",
       "      <td>NaN</td>\n",
       "    </tr>\n",
       "    <tr>\n",
       "      <th>...</th>\n",
       "      <td>...</td>\n",
       "      <td>...</td>\n",
       "      <td>...</td>\n",
       "      <td>...</td>\n",
       "      <td>...</td>\n",
       "      <td>...</td>\n",
       "      <td>...</td>\n",
       "      <td>...</td>\n",
       "      <td>...</td>\n",
       "      <td>...</td>\n",
       "      <td>...</td>\n",
       "      <td>...</td>\n",
       "      <td>...</td>\n",
       "      <td>...</td>\n",
       "      <td>...</td>\n",
       "      <td>...</td>\n",
       "      <td>...</td>\n",
       "      <td>...</td>\n",
       "    </tr>\n",
       "    <tr>\n",
       "      <th>191522</th>\n",
       "      <td>1214995668500135937</td>\n",
       "      <td>en</td>\n",
       "      <td>1214995668500135937</td>\n",
       "      <td>2020-01-08T19:41:55.000Z</td>\n",
       "      <td>everyone</td>\n",
       "      <td>NaN</td>\n",
       "      <td>{'mentions': [{'start': 3, 'end': 13, 'usernam...</td>\n",
       "      <td>NaN</td>\n",
       "      <td>{'edits_remaining': 5, 'is_edit_eligible': Tru...</td>\n",
       "      <td>NaN</td>\n",
       "      <td>RT @McMasterU: McMaster is deeply saddened by ...</td>\n",
       "      <td>818154242477277186</td>\n",
       "      <td>[1214995668500135937]</td>\n",
       "      <td>{'retweet_count': 141, 'reply_count': 0, 'like...</td>\n",
       "      <td>False</td>\n",
       "      <td>[{'type': 'retweeted', 'id': '1214989671425609...</td>\n",
       "      <td>NaN</td>\n",
       "      <td>NaN</td>\n",
       "    </tr>\n",
       "    <tr>\n",
       "      <th>191523</th>\n",
       "      <td>1197943524332752901</td>\n",
       "      <td>en</td>\n",
       "      <td>1198209259630141440</td>\n",
       "      <td>2019-11-23T11:58:43.000Z</td>\n",
       "      <td>everyone</td>\n",
       "      <td>NaN</td>\n",
       "      <td>{'mentions': [{'start': 0, 'end': 13, 'usernam...</td>\n",
       "      <td>NaN</td>\n",
       "      <td>{'edits_remaining': 5, 'is_edit_eligible': Tru...</td>\n",
       "      <td>279368185</td>\n",
       "      <td>@EdsonBellido Thank you Edson!</td>\n",
       "      <td>818154242477277186</td>\n",
       "      <td>[1198209259630141440]</td>\n",
       "      <td>{'retweet_count': 0, 'reply_count': 0, 'like_c...</td>\n",
       "      <td>False</td>\n",
       "      <td>[{'type': 'replied_to', 'id': '119809670781014...</td>\n",
       "      <td>NaN</td>\n",
       "      <td>NaN</td>\n",
       "    </tr>\n",
       "    <tr>\n",
       "      <th>191524</th>\n",
       "      <td>1198034748020592641</td>\n",
       "      <td>en</td>\n",
       "      <td>1198079967260631041</td>\n",
       "      <td>2019-11-23T03:24:58.000Z</td>\n",
       "      <td>everyone</td>\n",
       "      <td>NaN</td>\n",
       "      <td>{'annotations': [{'start': 29, 'end': 31, 'pro...</td>\n",
       "      <td>NaN</td>\n",
       "      <td>{'edits_remaining': 5, 'is_edit_eligible': Tru...</td>\n",
       "      <td>1042092036</td>\n",
       "      <td>@xufei0304 Thank you so much Fei! :)</td>\n",
       "      <td>818154242477277186</td>\n",
       "      <td>[1198079967260631041]</td>\n",
       "      <td>{'retweet_count': 0, 'reply_count': 0, 'like_c...</td>\n",
       "      <td>False</td>\n",
       "      <td>[{'type': 'replied_to', 'id': '119803474802059...</td>\n",
       "      <td>NaN</td>\n",
       "      <td>NaN</td>\n",
       "    </tr>\n",
       "    <tr>\n",
       "      <th>191525</th>\n",
       "      <td>1197943524332752901</td>\n",
       "      <td>en</td>\n",
       "      <td>1197943524332752901</td>\n",
       "      <td>2019-11-22T18:22:47.000Z</td>\n",
       "      <td>everyone</td>\n",
       "      <td>NaN</td>\n",
       "      <td>{'annotations': [{'start': 33, 'end': 40, 'pro...</td>\n",
       "      <td>NaN</td>\n",
       "      <td>{'edits_remaining': 5, 'is_edit_eligible': Tru...</td>\n",
       "      <td>NaN</td>\n",
       "      <td>It was truly an honor! Thank you McMaster! htt...</td>\n",
       "      <td>818154242477277186</td>\n",
       "      <td>[1197943524332752901]</td>\n",
       "      <td>{'retweet_count': 1, 'reply_count': 1, 'like_c...</td>\n",
       "      <td>False</td>\n",
       "      <td>[{'type': 'quoted', 'id': '1197920713333780482'}]</td>\n",
       "      <td>NaN</td>\n",
       "      <td>NaN</td>\n",
       "    </tr>\n",
       "    <tr>\n",
       "      <th>191526</th>\n",
       "      <td>1197918344193740802</td>\n",
       "      <td>en</td>\n",
       "      <td>1197942223649808384</td>\n",
       "      <td>2019-11-22T18:17:37.000Z</td>\n",
       "      <td>everyone</td>\n",
       "      <td>NaN</td>\n",
       "      <td>{'mentions': [{'start': 0, 'end': 8, 'username...</td>\n",
       "      <td>NaN</td>\n",
       "      <td>{'edits_remaining': 5, 'is_edit_eligible': Tru...</td>\n",
       "      <td>1078804207551926272</td>\n",
       "      <td>@PSWnano @TohidDidar @McMasterEng @McMasterU T...</td>\n",
       "      <td>818154242477277186</td>\n",
       "      <td>[1197942223649808384]</td>\n",
       "      <td>{'retweet_count': 0, 'reply_count': 0, 'like_c...</td>\n",
       "      <td>False</td>\n",
       "      <td>[{'type': 'replied_to', 'id': '119792068514367...</td>\n",
       "      <td>NaN</td>\n",
       "      <td>NaN</td>\n",
       "    </tr>\n",
       "  </tbody>\n",
       "</table>\n",
       "<p>191527 rows × 18 columns</p>\n",
       "</div>"
      ],
      "text/plain": [
       "            conversation_id lang                   id  \\\n",
       "0       1305964036593528832   en  1306026358896758784   \n",
       "1       1305656494256517121   en  1305656494256517121   \n",
       "2       1288624317379555328   en  1288624317379555328   \n",
       "3       1311380294671503360   en  1311380294671503360   \n",
       "4       1311370559675158529   en  1311370559675158529   \n",
       "...                     ...  ...                  ...   \n",
       "191522  1214995668500135937   en  1214995668500135937   \n",
       "191523  1197943524332752901   en  1198209259630141440   \n",
       "191524  1198034748020592641   en  1198079967260631041   \n",
       "191525  1197943524332752901   en  1197943524332752901   \n",
       "191526  1197918344193740802   en  1197942223649808384   \n",
       "\n",
       "                      created_at reply_settings  \\\n",
       "0       2020-09-16T00:25:23.000Z       everyone   \n",
       "1       2020-09-14T23:55:40.000Z       everyone   \n",
       "2       2020-07-29T23:55:53.000Z       everyone   \n",
       "3       2020-09-30T19:00:01.000Z       everyone   \n",
       "4       2020-09-30T18:21:20.000Z       everyone   \n",
       "...                          ...            ...   \n",
       "191522  2020-01-08T19:41:55.000Z       everyone   \n",
       "191523  2019-11-23T11:58:43.000Z       everyone   \n",
       "191524  2019-11-23T03:24:58.000Z       everyone   \n",
       "191525  2019-11-22T18:22:47.000Z       everyone   \n",
       "191526  2019-11-22T18:17:37.000Z       everyone   \n",
       "\n",
       "                                      context_annotations  \\\n",
       "0       [{'domain': {'id': '65', 'name': 'Interests an...   \n",
       "1                                                     NaN   \n",
       "2                                                     NaN   \n",
       "3       [{'domain': {'id': '45', 'name': 'Brand Vertic...   \n",
       "4       [{'domain': {'id': '131', 'name': 'Unified Twi...   \n",
       "...                                                   ...   \n",
       "191522                                                NaN   \n",
       "191523                                                NaN   \n",
       "191524                                                NaN   \n",
       "191525                                                NaN   \n",
       "191526                                                NaN   \n",
       "\n",
       "                                                 entities  \\\n",
       "0       {'urls': [{'start': 295, 'end': 318, 'url': 'h...   \n",
       "1       {'mentions': [{'start': 3, 'end': 9, 'username...   \n",
       "2       {'urls': [{'start': 186, 'end': 209, 'url': 'h...   \n",
       "3       {'mentions': [{'start': 1, 'end': 12, 'usernam...   \n",
       "4       {'mentions': [{'start': 139, 'end': 147, 'user...   \n",
       "...                                                   ...   \n",
       "191522  {'mentions': [{'start': 3, 'end': 13, 'usernam...   \n",
       "191523  {'mentions': [{'start': 0, 'end': 13, 'usernam...   \n",
       "191524  {'annotations': [{'start': 29, 'end': 31, 'pro...   \n",
       "191525  {'annotations': [{'start': 33, 'end': 40, 'pro...   \n",
       "191526  {'mentions': [{'start': 0, 'end': 8, 'username...   \n",
       "\n",
       "                                      attachments  \\\n",
       "0       {'media_keys': ['3_1306026354333319168']}   \n",
       "1                                             NaN   \n",
       "2                                             NaN   \n",
       "3                                             NaN   \n",
       "4                                             NaN   \n",
       "...                                           ...   \n",
       "191522                                        NaN   \n",
       "191523                                        NaN   \n",
       "191524                                        NaN   \n",
       "191525                                        NaN   \n",
       "191526                                        NaN   \n",
       "\n",
       "                                            edit_controls  \\\n",
       "0       {'edits_remaining': 5, 'is_edit_eligible': Tru...   \n",
       "1       {'edits_remaining': 5, 'is_edit_eligible': Tru...   \n",
       "2       {'edits_remaining': 5, 'is_edit_eligible': Tru...   \n",
       "3       {'edits_remaining': 5, 'is_edit_eligible': Tru...   \n",
       "4       {'edits_remaining': 5, 'is_edit_eligible': Tru...   \n",
       "...                                                   ...   \n",
       "191522  {'edits_remaining': 5, 'is_edit_eligible': Tru...   \n",
       "191523  {'edits_remaining': 5, 'is_edit_eligible': Tru...   \n",
       "191524  {'edits_remaining': 5, 'is_edit_eligible': Tru...   \n",
       "191525  {'edits_remaining': 5, 'is_edit_eligible': Tru...   \n",
       "191526  {'edits_remaining': 5, 'is_edit_eligible': Tru...   \n",
       "\n",
       "        in_reply_to_user_id  \\\n",
       "0                 165638031   \n",
       "1                       NaN   \n",
       "2                       NaN   \n",
       "3                       NaN   \n",
       "4                       NaN   \n",
       "...                     ...   \n",
       "191522                  NaN   \n",
       "191523            279368185   \n",
       "191524           1042092036   \n",
       "191525                  NaN   \n",
       "191526  1078804207551926272   \n",
       "\n",
       "                                                     text  \\\n",
       "0       @nolan_madeleine @ddsv3 @thenosm #NOSMRollCall...   \n",
       "1       RT @ddsv3: TWEETUP @thenosm @_justinam @nolan_...   \n",
       "2       Inspiring TEDx Talk given by my mentor @moradh...   \n",
       "3       .@BostonJoan discusses a coordinated push of c...   \n",
       "4       Did you miss our event \"Confronting Disinforma...   \n",
       "...                                                   ...   \n",
       "191522  RT @McMasterU: McMaster is deeply saddened by ...   \n",
       "191523                     @EdsonBellido Thank you Edson!   \n",
       "191524               @xufei0304 Thank you so much Fei! :)   \n",
       "191525  It was truly an honor! Thank you McMaster! htt...   \n",
       "191526  @PSWnano @TohidDidar @McMasterEng @McMasterU T...   \n",
       "\n",
       "                  author_id edit_history_tweet_ids  \\\n",
       "0       1236031388933074951  [1306026358896758784]   \n",
       "1       1236031388933074951  [1305656494256517121]   \n",
       "2       1236031388933074951  [1288624317379555328]   \n",
       "3                  56772461  [1311380294671503360]   \n",
       "4                  56772461  [1311370559675158529]   \n",
       "...                     ...                    ...   \n",
       "191522   818154242477277186  [1214995668500135937]   \n",
       "191523   818154242477277186  [1198209259630141440]   \n",
       "191524   818154242477277186  [1198079967260631041]   \n",
       "191525   818154242477277186  [1197943524332752901]   \n",
       "191526   818154242477277186  [1197942223649808384]   \n",
       "\n",
       "                                           public_metrics  possibly_sensitive  \\\n",
       "0       {'retweet_count': 2, 'reply_count': 0, 'like_c...               False   \n",
       "1       {'retweet_count': 4, 'reply_count': 0, 'like_c...               False   \n",
       "2       {'retweet_count': 1, 'reply_count': 0, 'like_c...               False   \n",
       "3       {'retweet_count': 6, 'reply_count': 0, 'like_c...               False   \n",
       "4       {'retweet_count': 14, 'reply_count': 0, 'like_...               False   \n",
       "...                                                   ...                 ...   \n",
       "191522  {'retweet_count': 141, 'reply_count': 0, 'like...               False   \n",
       "191523  {'retweet_count': 0, 'reply_count': 0, 'like_c...               False   \n",
       "191524  {'retweet_count': 0, 'reply_count': 0, 'like_c...               False   \n",
       "191525  {'retweet_count': 1, 'reply_count': 1, 'like_c...               False   \n",
       "191526  {'retweet_count': 0, 'reply_count': 0, 'like_c...               False   \n",
       "\n",
       "                                        referenced_tweets  geo withheld  \n",
       "0       [{'type': 'replied_to', 'id': '130596403659352...  NaN      NaN  \n",
       "1       [{'type': 'retweeted', 'id': '1305655825449586...  NaN      NaN  \n",
       "2                                                     NaN  NaN      NaN  \n",
       "3                                                     NaN  NaN      NaN  \n",
       "4                                                     NaN  NaN      NaN  \n",
       "...                                                   ...  ...      ...  \n",
       "191522  [{'type': 'retweeted', 'id': '1214989671425609...  NaN      NaN  \n",
       "191523  [{'type': 'replied_to', 'id': '119809670781014...  NaN      NaN  \n",
       "191524  [{'type': 'replied_to', 'id': '119803474802059...  NaN      NaN  \n",
       "191525  [{'type': 'quoted', 'id': '1197920713333780482'}]  NaN      NaN  \n",
       "191526  [{'type': 'replied_to', 'id': '119792068514367...  NaN      NaN  \n",
       "\n",
       "[191527 rows x 18 columns]"
      ]
     },
     "execution_count": 16,
     "metadata": {},
     "output_type": "execute_result"
    }
   ],
   "source": [
    "tweets_df = pd.concat(tweets_df_l).reset_index(drop=True)\n",
    "tweets_df"
   ]
  },
  {
   "cell_type": "code",
   "execution_count": 17,
   "metadata": {},
   "outputs": [],
   "source": [
    "tweets_df['created_at'] = pd.to_datetime(tweets_df['created_at'])"
   ]
  },
  {
   "cell_type": "code",
   "execution_count": 18,
   "metadata": {},
   "outputs": [],
   "source": [
    "def get_top_n(df = tweets_df, regex='(#[^\\s]+)', n=10):\n",
    "    \n",
    "    return pd.Series(df.text.str.extractall(regex)[0].tolist()).value_counts()[:n]"
   ]
  },
  {
   "cell_type": "code",
   "execution_count": 24,
   "metadata": {},
   "outputs": [],
   "source": [
    "import emoji\n",
    "\n",
    "def extract_emojis(s):\n",
    "    return ''.join(c for c in s if c in emoji.UNICODE_EMOJI['en'])"
   ]
  },
  {
   "cell_type": "code",
   "execution_count": 25,
   "metadata": {},
   "outputs": [],
   "source": [
    "tweets_df_en = tweets_df[tweets_df.lang == 'en']"
   ]
  },
  {
   "cell_type": "code",
   "execution_count": 26,
   "metadata": {},
   "outputs": [
    {
     "data": {
      "text/plain": [
       "#COVID19        5312\n",
       "#MedEd           672\n",
       "#COVID19.        653\n",
       "#cannabis        603\n",
       "#coronavirus     572\n",
       "#covid19         499\n",
       "#mmj             482\n",
       "#ottnews         447\n",
       "#MedTwitter      441\n",
       "#health          409\n",
       "dtype: int64"
      ]
     },
     "execution_count": 26,
     "metadata": {},
     "output_type": "execute_result"
    }
   ],
   "source": [
    "get_top_n(df=tweets_df_en, regex='(#[^\\s]+)', n=10)"
   ]
  },
  {
   "cell_type": "code",
   "execution_count": 27,
   "metadata": {},
   "outputs": [
    {
     "data": {
      "text/plain": [
       "@picardonhealth:    558\n",
       "@JustinTrudeau      552\n",
       "@fordnation         517\n",
       "@UHN                479\n",
       "@uoftmedicine       436\n",
       "@ctvottawa          414\n",
       "@Safimod            409\n",
       "@CIHR_IRSC          380\n",
       "@picardonhealth     378\n",
       "@CFMSFEMC           376\n",
       "dtype: int64"
      ]
     },
     "execution_count": 27,
     "metadata": {},
     "output_type": "execute_result"
    }
   ],
   "source": [
    "get_top_n(df=tweets_df_en, regex='(@[^\\s]+)', n=10)"
   ]
  },
  {
   "cell_type": "code",
   "execution_count": 28,
   "metadata": {},
   "outputs": [
    {
     "name": "stderr",
     "output_type": "stream",
     "text": [
      "/var/folders/hj/n94x31sj08bdmgwjs6ybxbf40000gn/T/ipykernel_22593/581539383.py:1: SettingWithCopyWarning: \n",
      "A value is trying to be set on a copy of a slice from a DataFrame.\n",
      "Try using .loc[row_indexer,col_indexer] = value instead\n",
      "\n",
      "See the caveats in the documentation: https://pandas.pydata.org/pandas-docs/stable/user_guide/indexing.html#returning-a-view-versus-a-copy\n",
      "  tweets_df_en['emojis'] = tweets_df_en.text.apply(lambda x: emoji.emoji_list(x))\n"
     ]
    }
   ],
   "source": [
    "tweets_df_en['emojis'] = tweets_df_en.text.apply(lambda x: emoji.emoji_list(x))"
   ]
  },
  {
   "cell_type": "code",
   "execution_count": 29,
   "metadata": {},
   "outputs": [],
   "source": [
    "emoji_l = []\n",
    "for e in tweets_df_en['emojis'].tolist():\n",
    "    if len(e)>0:\n",
    "        for i in e:\n",
    "            emoji_l.append(i['emoji'])"
   ]
  },
  {
   "cell_type": "code",
   "execution_count": 30,
   "metadata": {},
   "outputs": [
    {
     "data": {
      "text/plain": [
       "❤️    1923\n",
       "😂     1885\n",
       "🇨🇦    1184\n",
       "👏      908\n",
       "🙏      700\n",
       "👇      571\n",
       "🎉      560\n",
       "😊      553\n",
       "😍      468\n",
       "🤣      466\n",
       "dtype: int64"
      ]
     },
     "execution_count": 30,
     "metadata": {},
     "output_type": "execute_result"
    }
   ],
   "source": [
    "pd.Series(emoji_l).value_counts()[:10]"
   ]
  },
  {
   "cell_type": "code",
   "execution_count": 31,
   "metadata": {},
   "outputs": [
    {
     "name": "stderr",
     "output_type": "stream",
     "text": [
      "/var/folders/hj/n94x31sj08bdmgwjs6ybxbf40000gn/T/ipykernel_22593/396124695.py:1: SettingWithCopyWarning: \n",
      "A value is trying to be set on a copy of a slice from a DataFrame.\n",
      "Try using .loc[row_indexer,col_indexer] = value instead\n",
      "\n",
      "See the caveats in the documentation: https://pandas.pydata.org/pandas-docs/stable/user_guide/indexing.html#returning-a-view-versus-a-copy\n",
      "  tweets_df_en.loc[:, 'retweet_count'] = tweets_df_en.public_metrics.apply(lambda x: x['retweet_count'])\n"
     ]
    }
   ],
   "source": [
    "tweets_df_en.loc[:, 'retweet_count'] = tweets_df_en.public_metrics.apply(lambda x: x['retweet_count'])"
   ]
  },
  {
   "cell_type": "code",
   "execution_count": 33,
   "metadata": {},
   "outputs": [
    {
     "name": "stderr",
     "output_type": "stream",
     "text": [
      "/var/folders/hj/n94x31sj08bdmgwjs6ybxbf40000gn/T/ipykernel_22593/1761169564.py:1: SettingWithCopyWarning: \n",
      "A value is trying to be set on a copy of a slice from a DataFrame.\n",
      "Try using .loc[row_indexer,col_indexer] = value instead\n",
      "\n",
      "See the caveats in the documentation: https://pandas.pydata.org/pandas-docs/stable/user_guide/indexing.html#returning-a-view-versus-a-copy\n",
      "  tweets_df_en['date'] = tweets_df_en.created_at.dt.date\n"
     ]
    }
   ],
   "source": [
    "tweets_df_en['date'] = tweets_df_en.created_at.dt.date\n",
    "\n",
    "retweet_count_df = tweets_df_en.groupby('date').retweet_count.sum().reset_index()"
   ]
  },
  {
   "cell_type": "code",
   "execution_count": 34,
   "metadata": {},
   "outputs": [
    {
     "data": {
      "application/vnd.plotly.v1+json": {
       "config": {
        "plotlyServerURL": "https://plot.ly"
       },
       "data": [
        {
         "hovertemplate": "date=%{x}<br>retweet_count=%{y}<extra></extra>",
         "legendgroup": "",
         "line": {
          "color": "#636efa",
          "dash": "solid"
         },
         "marker": {
          "symbol": "circle"
         },
         "mode": "lines",
         "name": "",
         "orientation": "v",
         "showlegend": false,
         "type": "scatter",
         "x": [
          "2019-10-01",
          "2019-10-02",
          "2019-10-03",
          "2019-10-04",
          "2019-10-05",
          "2019-10-06",
          "2019-10-07",
          "2019-10-08",
          "2019-10-09",
          "2019-10-10",
          "2019-10-11",
          "2019-10-12",
          "2019-10-13",
          "2019-10-14",
          "2019-10-15",
          "2019-10-16",
          "2019-10-17",
          "2019-10-18",
          "2019-10-19",
          "2019-10-20",
          "2019-10-21",
          "2019-10-22",
          "2019-10-23",
          "2019-10-24",
          "2019-10-25",
          "2019-10-26",
          "2019-10-27",
          "2019-10-28",
          "2019-10-29",
          "2019-10-30",
          "2019-10-31",
          "2019-11-01",
          "2019-11-02",
          "2019-11-03",
          "2019-11-04",
          "2019-11-05",
          "2019-11-06",
          "2019-11-07",
          "2019-11-08",
          "2019-11-09",
          "2019-11-10",
          "2019-11-11",
          "2019-11-12",
          "2019-11-13",
          "2019-11-14",
          "2019-11-15",
          "2019-11-16",
          "2019-11-17",
          "2019-11-18",
          "2019-11-19",
          "2019-11-20",
          "2019-11-21",
          "2019-11-22",
          "2019-11-23",
          "2019-11-24",
          "2019-11-25",
          "2019-11-26",
          "2019-11-27",
          "2019-11-28",
          "2019-11-29",
          "2019-11-30",
          "2019-12-01",
          "2019-12-02",
          "2019-12-03",
          "2019-12-04",
          "2019-12-05",
          "2019-12-06",
          "2019-12-07",
          "2019-12-08",
          "2019-12-09",
          "2019-12-10",
          "2019-12-11",
          "2019-12-12",
          "2019-12-13",
          "2019-12-14",
          "2019-12-15",
          "2019-12-16",
          "2019-12-17",
          "2019-12-18",
          "2019-12-19",
          "2019-12-20",
          "2019-12-21",
          "2019-12-22",
          "2019-12-23",
          "2019-12-24",
          "2019-12-25",
          "2019-12-26",
          "2019-12-27",
          "2019-12-28",
          "2019-12-29",
          "2019-12-30",
          "2019-12-31",
          "2020-01-01",
          "2020-01-02",
          "2020-01-03",
          "2020-01-04",
          "2020-01-05",
          "2020-01-06",
          "2020-01-07",
          "2020-01-08",
          "2020-01-09",
          "2020-01-10",
          "2020-01-11",
          "2020-01-12",
          "2020-01-13",
          "2020-01-14",
          "2020-01-15",
          "2020-01-16",
          "2020-01-17",
          "2020-01-18",
          "2020-01-19",
          "2020-01-20",
          "2020-01-21",
          "2020-01-22",
          "2020-01-23",
          "2020-01-24",
          "2020-01-25",
          "2020-01-26",
          "2020-01-27",
          "2020-01-28",
          "2020-01-29",
          "2020-01-30",
          "2020-01-31",
          "2020-02-01",
          "2020-02-02",
          "2020-02-03",
          "2020-02-04",
          "2020-02-05",
          "2020-02-06",
          "2020-02-07",
          "2020-02-08",
          "2020-02-09",
          "2020-02-10",
          "2020-02-11",
          "2020-02-12",
          "2020-02-13",
          "2020-02-14",
          "2020-02-15",
          "2020-02-16",
          "2020-02-17",
          "2020-02-18",
          "2020-02-19",
          "2020-02-20",
          "2020-02-21",
          "2020-02-22",
          "2020-02-23",
          "2020-02-24",
          "2020-02-25",
          "2020-02-26",
          "2020-02-27",
          "2020-02-28",
          "2020-02-29",
          "2020-03-01",
          "2020-03-02",
          "2020-03-03",
          "2020-03-04",
          "2020-03-05",
          "2020-03-06",
          "2020-03-07",
          "2020-03-08",
          "2020-03-09",
          "2020-03-10",
          "2020-03-11",
          "2020-03-12",
          "2020-03-13",
          "2020-03-14",
          "2020-03-15",
          "2020-03-16",
          "2020-03-17",
          "2020-03-18",
          "2020-03-19",
          "2020-03-20",
          "2020-03-21",
          "2020-03-22",
          "2020-03-23",
          "2020-03-24",
          "2020-03-25",
          "2020-03-26",
          "2020-03-27",
          "2020-03-28",
          "2020-03-29",
          "2020-03-30",
          "2020-03-31",
          "2020-04-01",
          "2020-04-02",
          "2020-04-03",
          "2020-04-04",
          "2020-04-05",
          "2020-04-06",
          "2020-04-07",
          "2020-04-08",
          "2020-04-09",
          "2020-04-10",
          "2020-04-11",
          "2020-04-12",
          "2020-04-13",
          "2020-04-14",
          "2020-04-15",
          "2020-04-16",
          "2020-04-17",
          "2020-04-18",
          "2020-04-19",
          "2020-04-20",
          "2020-04-21",
          "2020-04-22",
          "2020-04-23",
          "2020-04-24",
          "2020-04-25",
          "2020-04-26",
          "2020-04-27",
          "2020-04-28",
          "2020-04-29",
          "2020-04-30",
          "2020-05-01",
          "2020-05-02",
          "2020-05-03",
          "2020-05-04",
          "2020-05-05",
          "2020-05-06",
          "2020-05-07",
          "2020-05-08",
          "2020-05-09",
          "2020-05-10",
          "2020-05-11",
          "2020-05-12",
          "2020-05-13",
          "2020-05-14",
          "2020-05-15",
          "2020-05-16",
          "2020-05-17",
          "2020-05-18",
          "2020-05-19",
          "2020-05-20",
          "2020-05-21",
          "2020-05-22",
          "2020-05-23",
          "2020-05-24",
          "2020-05-25",
          "2020-05-26",
          "2020-05-27",
          "2020-05-28",
          "2020-05-29",
          "2020-05-30",
          "2020-05-31",
          "2020-06-01",
          "2020-06-02",
          "2020-06-03",
          "2020-06-04",
          "2020-06-05",
          "2020-06-06",
          "2020-06-07",
          "2020-06-08",
          "2020-06-09",
          "2020-06-10",
          "2020-06-11",
          "2020-06-12",
          "2020-06-13",
          "2020-06-14",
          "2020-06-15",
          "2020-06-16",
          "2020-06-17",
          "2020-06-18",
          "2020-06-19",
          "2020-06-20",
          "2020-06-21",
          "2020-06-22",
          "2020-06-23",
          "2020-06-24",
          "2020-06-25",
          "2020-06-26",
          "2020-06-27",
          "2020-06-28",
          "2020-06-29",
          "2020-06-30",
          "2020-07-01",
          "2020-07-02",
          "2020-07-03",
          "2020-07-04",
          "2020-07-05",
          "2020-07-06",
          "2020-07-07",
          "2020-07-08",
          "2020-07-09",
          "2020-07-10",
          "2020-07-11",
          "2020-07-12",
          "2020-07-13",
          "2020-07-14",
          "2020-07-15",
          "2020-07-16",
          "2020-07-17",
          "2020-07-18",
          "2020-07-19",
          "2020-07-20",
          "2020-07-21",
          "2020-07-22",
          "2020-07-23",
          "2020-07-24",
          "2020-07-25",
          "2020-07-26",
          "2020-07-27",
          "2020-07-28",
          "2020-07-29",
          "2020-07-30",
          "2020-07-31",
          "2020-08-01",
          "2020-08-02",
          "2020-08-03",
          "2020-08-04",
          "2020-08-05",
          "2020-08-06",
          "2020-08-07",
          "2020-08-08",
          "2020-08-09",
          "2020-08-10",
          "2020-08-11",
          "2020-08-12",
          "2020-08-13",
          "2020-08-14",
          "2020-08-15",
          "2020-08-16",
          "2020-08-17",
          "2020-08-18",
          "2020-08-19",
          "2020-08-20",
          "2020-08-21",
          "2020-08-22",
          "2020-08-23",
          "2020-08-24",
          "2020-08-25",
          "2020-08-26",
          "2020-08-27",
          "2020-08-28",
          "2020-08-29",
          "2020-08-30",
          "2020-08-31",
          "2020-09-01",
          "2020-09-02",
          "2020-09-03",
          "2020-09-04",
          "2020-09-05",
          "2020-09-06",
          "2020-09-07",
          "2020-09-08",
          "2020-09-09",
          "2020-09-10",
          "2020-09-11",
          "2020-09-12",
          "2020-09-13",
          "2020-09-14",
          "2020-09-15",
          "2020-09-16",
          "2020-09-17",
          "2020-09-18",
          "2020-09-19",
          "2020-09-20",
          "2020-09-21",
          "2020-09-22",
          "2020-09-23",
          "2020-09-24",
          "2020-09-25",
          "2020-09-26",
          "2020-09-27",
          "2020-09-28",
          "2020-09-29",
          "2020-09-30"
         ],
         "xaxis": "x",
         "y": [
          132329,
          313089,
          14179,
          33940,
          40559,
          82042,
          169765,
          37440,
          40349,
          51790,
          82442,
          415812,
          80259,
          37999,
          32014,
          158741,
          459168,
          21657,
          249938,
          135052,
          142819,
          327429,
          97652,
          109136,
          371859,
          59201,
          135263,
          78640,
          124567,
          69109,
          129521,
          528836,
          278135,
          88441,
          72771,
          180140,
          6968,
          32607,
          273831,
          41487,
          60685,
          88550,
          151032,
          38863,
          41364,
          95711,
          14329,
          35929,
          58573,
          101776,
          67084,
          12058,
          112389,
          58551,
          20149,
          56524,
          85239,
          94537,
          63569,
          116147,
          62104,
          27609,
          169896,
          13653,
          11053,
          162426,
          74186,
          133915,
          48578,
          86352,
          63317,
          376562,
          465918,
          322212,
          78585,
          184603,
          170951,
          102737,
          43179,
          303735,
          186204,
          84464,
          491972,
          278082,
          21943,
          59202,
          216468,
          59608,
          271364,
          22577,
          82573,
          12310,
          71344,
          92819,
          307096,
          40050,
          57136,
          232621,
          184722,
          47155,
          138116,
          235402,
          813141,
          61126,
          203234,
          150774,
          34564,
          203034,
          66707,
          87485,
          163050,
          332087,
          131450,
          76818,
          39267,
          45896,
          177547,
          1063117,
          1270223,
          385708,
          264091,
          235689,
          101976,
          60398,
          72710,
          193030,
          117489,
          309303,
          13022,
          14723,
          413009,
          57814,
          82889,
          62665,
          41872,
          49192,
          184629,
          5127,
          22530,
          13602,
          55844,
          35506,
          21520,
          186599,
          26666,
          33387,
          119149,
          415403,
          236501,
          206338,
          79250,
          335319,
          88180,
          145723,
          63159,
          326184,
          409520,
          92415,
          212295,
          208327,
          159605,
          486504,
          627606,
          994511,
          2057331,
          2002253,
          2596286,
          4140237,
          2955992,
          1580673,
          1137169,
          1556019,
          989881,
          1110658,
          751325,
          1755757,
          1166968,
          1106209,
          584651,
          1313215,
          744347,
          1068945,
          526423,
          1037230,
          695894,
          286822,
          716660,
          1093486,
          632613,
          450155,
          265873,
          388504,
          178117,
          280557,
          346006,
          439548,
          391121,
          598187,
          695761,
          481942,
          320770,
          363737,
          1091828,
          170310,
          214710,
          204660,
          1808835,
          716732,
          491082,
          74621,
          105591,
          104781,
          155036,
          131537,
          79484,
          96069,
          170055,
          161169,
          164049,
          79410,
          382295,
          314871,
          407109,
          644164,
          206500,
          396485,
          221951,
          383854,
          71201,
          525911,
          653060,
          285542,
          203903,
          158068,
          54891,
          166284,
          308354,
          197256,
          143812,
          494064,
          1630914,
          2106799,
          2510020,
          5308553,
          2346597,
          4230269,
          3488408,
          2547593,
          1309589,
          1708612,
          1117698,
          819413,
          1218255,
          476538,
          727948,
          1118997,
          778003,
          624481,
          230336,
          582649,
          557101,
          642147,
          360805,
          482461,
          262675,
          465021,
          307739,
          387595,
          748717,
          667531,
          794793,
          451168,
          868934,
          368227,
          196137,
          3303424,
          1443907,
          1635108,
          281825,
          509914,
          567864,
          567521,
          388588,
          236082,
          407393,
          493898,
          224937,
          353056,
          311788,
          600796,
          383010,
          702446,
          272048,
          187992,
          184363,
          343256,
          213571,
          86626,
          365396,
          347752,
          185521,
          140943,
          285756,
          200375,
          381199,
          373081,
          94956,
          373022,
          291355,
          509759,
          281467,
          305950,
          227143,
          194007,
          45755,
          639782,
          222687,
          214288,
          504021,
          145543,
          139273,
          62697,
          223036,
          110024,
          178740,
          102691,
          93119,
          322232,
          215974,
          247128,
          541043,
          1579033,
          979436,
          1887375,
          513784,
          255798,
          118372,
          67252,
          188964,
          427729,
          512578,
          235847,
          283651,
          92657,
          139361,
          328705,
          210480,
          341943,
          160040,
          118766,
          493747,
          298302,
          224678,
          122146,
          1001762,
          658687,
          212045,
          113099,
          269179,
          407917,
          70845,
          199498,
          644448,
          705493,
          227268,
          1972750
         ],
         "yaxis": "y"
        }
       ],
       "layout": {
        "legend": {
         "tracegroupgap": 0
        },
        "template": {
         "data": {
          "bar": [
           {
            "error_x": {
             "color": "#2a3f5f"
            },
            "error_y": {
             "color": "#2a3f5f"
            },
            "marker": {
             "line": {
              "color": "#E5ECF6",
              "width": 0.5
             },
             "pattern": {
              "fillmode": "overlay",
              "size": 10,
              "solidity": 0.2
             }
            },
            "type": "bar"
           }
          ],
          "barpolar": [
           {
            "marker": {
             "line": {
              "color": "#E5ECF6",
              "width": 0.5
             },
             "pattern": {
              "fillmode": "overlay",
              "size": 10,
              "solidity": 0.2
             }
            },
            "type": "barpolar"
           }
          ],
          "carpet": [
           {
            "aaxis": {
             "endlinecolor": "#2a3f5f",
             "gridcolor": "white",
             "linecolor": "white",
             "minorgridcolor": "white",
             "startlinecolor": "#2a3f5f"
            },
            "baxis": {
             "endlinecolor": "#2a3f5f",
             "gridcolor": "white",
             "linecolor": "white",
             "minorgridcolor": "white",
             "startlinecolor": "#2a3f5f"
            },
            "type": "carpet"
           }
          ],
          "choropleth": [
           {
            "colorbar": {
             "outlinewidth": 0,
             "ticks": ""
            },
            "type": "choropleth"
           }
          ],
          "contour": [
           {
            "colorbar": {
             "outlinewidth": 0,
             "ticks": ""
            },
            "colorscale": [
             [
              0,
              "#0d0887"
             ],
             [
              0.1111111111111111,
              "#46039f"
             ],
             [
              0.2222222222222222,
              "#7201a8"
             ],
             [
              0.3333333333333333,
              "#9c179e"
             ],
             [
              0.4444444444444444,
              "#bd3786"
             ],
             [
              0.5555555555555556,
              "#d8576b"
             ],
             [
              0.6666666666666666,
              "#ed7953"
             ],
             [
              0.7777777777777778,
              "#fb9f3a"
             ],
             [
              0.8888888888888888,
              "#fdca26"
             ],
             [
              1,
              "#f0f921"
             ]
            ],
            "type": "contour"
           }
          ],
          "contourcarpet": [
           {
            "colorbar": {
             "outlinewidth": 0,
             "ticks": ""
            },
            "type": "contourcarpet"
           }
          ],
          "heatmap": [
           {
            "colorbar": {
             "outlinewidth": 0,
             "ticks": ""
            },
            "colorscale": [
             [
              0,
              "#0d0887"
             ],
             [
              0.1111111111111111,
              "#46039f"
             ],
             [
              0.2222222222222222,
              "#7201a8"
             ],
             [
              0.3333333333333333,
              "#9c179e"
             ],
             [
              0.4444444444444444,
              "#bd3786"
             ],
             [
              0.5555555555555556,
              "#d8576b"
             ],
             [
              0.6666666666666666,
              "#ed7953"
             ],
             [
              0.7777777777777778,
              "#fb9f3a"
             ],
             [
              0.8888888888888888,
              "#fdca26"
             ],
             [
              1,
              "#f0f921"
             ]
            ],
            "type": "heatmap"
           }
          ],
          "heatmapgl": [
           {
            "colorbar": {
             "outlinewidth": 0,
             "ticks": ""
            },
            "colorscale": [
             [
              0,
              "#0d0887"
             ],
             [
              0.1111111111111111,
              "#46039f"
             ],
             [
              0.2222222222222222,
              "#7201a8"
             ],
             [
              0.3333333333333333,
              "#9c179e"
             ],
             [
              0.4444444444444444,
              "#bd3786"
             ],
             [
              0.5555555555555556,
              "#d8576b"
             ],
             [
              0.6666666666666666,
              "#ed7953"
             ],
             [
              0.7777777777777778,
              "#fb9f3a"
             ],
             [
              0.8888888888888888,
              "#fdca26"
             ],
             [
              1,
              "#f0f921"
             ]
            ],
            "type": "heatmapgl"
           }
          ],
          "histogram": [
           {
            "marker": {
             "pattern": {
              "fillmode": "overlay",
              "size": 10,
              "solidity": 0.2
             }
            },
            "type": "histogram"
           }
          ],
          "histogram2d": [
           {
            "colorbar": {
             "outlinewidth": 0,
             "ticks": ""
            },
            "colorscale": [
             [
              0,
              "#0d0887"
             ],
             [
              0.1111111111111111,
              "#46039f"
             ],
             [
              0.2222222222222222,
              "#7201a8"
             ],
             [
              0.3333333333333333,
              "#9c179e"
             ],
             [
              0.4444444444444444,
              "#bd3786"
             ],
             [
              0.5555555555555556,
              "#d8576b"
             ],
             [
              0.6666666666666666,
              "#ed7953"
             ],
             [
              0.7777777777777778,
              "#fb9f3a"
             ],
             [
              0.8888888888888888,
              "#fdca26"
             ],
             [
              1,
              "#f0f921"
             ]
            ],
            "type": "histogram2d"
           }
          ],
          "histogram2dcontour": [
           {
            "colorbar": {
             "outlinewidth": 0,
             "ticks": ""
            },
            "colorscale": [
             [
              0,
              "#0d0887"
             ],
             [
              0.1111111111111111,
              "#46039f"
             ],
             [
              0.2222222222222222,
              "#7201a8"
             ],
             [
              0.3333333333333333,
              "#9c179e"
             ],
             [
              0.4444444444444444,
              "#bd3786"
             ],
             [
              0.5555555555555556,
              "#d8576b"
             ],
             [
              0.6666666666666666,
              "#ed7953"
             ],
             [
              0.7777777777777778,
              "#fb9f3a"
             ],
             [
              0.8888888888888888,
              "#fdca26"
             ],
             [
              1,
              "#f0f921"
             ]
            ],
            "type": "histogram2dcontour"
           }
          ],
          "mesh3d": [
           {
            "colorbar": {
             "outlinewidth": 0,
             "ticks": ""
            },
            "type": "mesh3d"
           }
          ],
          "parcoords": [
           {
            "line": {
             "colorbar": {
              "outlinewidth": 0,
              "ticks": ""
             }
            },
            "type": "parcoords"
           }
          ],
          "pie": [
           {
            "automargin": true,
            "type": "pie"
           }
          ],
          "scatter": [
           {
            "fillpattern": {
             "fillmode": "overlay",
             "size": 10,
             "solidity": 0.2
            },
            "type": "scatter"
           }
          ],
          "scatter3d": [
           {
            "line": {
             "colorbar": {
              "outlinewidth": 0,
              "ticks": ""
             }
            },
            "marker": {
             "colorbar": {
              "outlinewidth": 0,
              "ticks": ""
             }
            },
            "type": "scatter3d"
           }
          ],
          "scattercarpet": [
           {
            "marker": {
             "colorbar": {
              "outlinewidth": 0,
              "ticks": ""
             }
            },
            "type": "scattercarpet"
           }
          ],
          "scattergeo": [
           {
            "marker": {
             "colorbar": {
              "outlinewidth": 0,
              "ticks": ""
             }
            },
            "type": "scattergeo"
           }
          ],
          "scattergl": [
           {
            "marker": {
             "colorbar": {
              "outlinewidth": 0,
              "ticks": ""
             }
            },
            "type": "scattergl"
           }
          ],
          "scattermapbox": [
           {
            "marker": {
             "colorbar": {
              "outlinewidth": 0,
              "ticks": ""
             }
            },
            "type": "scattermapbox"
           }
          ],
          "scatterpolar": [
           {
            "marker": {
             "colorbar": {
              "outlinewidth": 0,
              "ticks": ""
             }
            },
            "type": "scatterpolar"
           }
          ],
          "scatterpolargl": [
           {
            "marker": {
             "colorbar": {
              "outlinewidth": 0,
              "ticks": ""
             }
            },
            "type": "scatterpolargl"
           }
          ],
          "scatterternary": [
           {
            "marker": {
             "colorbar": {
              "outlinewidth": 0,
              "ticks": ""
             }
            },
            "type": "scatterternary"
           }
          ],
          "surface": [
           {
            "colorbar": {
             "outlinewidth": 0,
             "ticks": ""
            },
            "colorscale": [
             [
              0,
              "#0d0887"
             ],
             [
              0.1111111111111111,
              "#46039f"
             ],
             [
              0.2222222222222222,
              "#7201a8"
             ],
             [
              0.3333333333333333,
              "#9c179e"
             ],
             [
              0.4444444444444444,
              "#bd3786"
             ],
             [
              0.5555555555555556,
              "#d8576b"
             ],
             [
              0.6666666666666666,
              "#ed7953"
             ],
             [
              0.7777777777777778,
              "#fb9f3a"
             ],
             [
              0.8888888888888888,
              "#fdca26"
             ],
             [
              1,
              "#f0f921"
             ]
            ],
            "type": "surface"
           }
          ],
          "table": [
           {
            "cells": {
             "fill": {
              "color": "#EBF0F8"
             },
             "line": {
              "color": "white"
             }
            },
            "header": {
             "fill": {
              "color": "#C8D4E3"
             },
             "line": {
              "color": "white"
             }
            },
            "type": "table"
           }
          ]
         },
         "layout": {
          "annotationdefaults": {
           "arrowcolor": "#2a3f5f",
           "arrowhead": 0,
           "arrowwidth": 1
          },
          "autotypenumbers": "strict",
          "coloraxis": {
           "colorbar": {
            "outlinewidth": 0,
            "ticks": ""
           }
          },
          "colorscale": {
           "diverging": [
            [
             0,
             "#8e0152"
            ],
            [
             0.1,
             "#c51b7d"
            ],
            [
             0.2,
             "#de77ae"
            ],
            [
             0.3,
             "#f1b6da"
            ],
            [
             0.4,
             "#fde0ef"
            ],
            [
             0.5,
             "#f7f7f7"
            ],
            [
             0.6,
             "#e6f5d0"
            ],
            [
             0.7,
             "#b8e186"
            ],
            [
             0.8,
             "#7fbc41"
            ],
            [
             0.9,
             "#4d9221"
            ],
            [
             1,
             "#276419"
            ]
           ],
           "sequential": [
            [
             0,
             "#0d0887"
            ],
            [
             0.1111111111111111,
             "#46039f"
            ],
            [
             0.2222222222222222,
             "#7201a8"
            ],
            [
             0.3333333333333333,
             "#9c179e"
            ],
            [
             0.4444444444444444,
             "#bd3786"
            ],
            [
             0.5555555555555556,
             "#d8576b"
            ],
            [
             0.6666666666666666,
             "#ed7953"
            ],
            [
             0.7777777777777778,
             "#fb9f3a"
            ],
            [
             0.8888888888888888,
             "#fdca26"
            ],
            [
             1,
             "#f0f921"
            ]
           ],
           "sequentialminus": [
            [
             0,
             "#0d0887"
            ],
            [
             0.1111111111111111,
             "#46039f"
            ],
            [
             0.2222222222222222,
             "#7201a8"
            ],
            [
             0.3333333333333333,
             "#9c179e"
            ],
            [
             0.4444444444444444,
             "#bd3786"
            ],
            [
             0.5555555555555556,
             "#d8576b"
            ],
            [
             0.6666666666666666,
             "#ed7953"
            ],
            [
             0.7777777777777778,
             "#fb9f3a"
            ],
            [
             0.8888888888888888,
             "#fdca26"
            ],
            [
             1,
             "#f0f921"
            ]
           ]
          },
          "colorway": [
           "#636efa",
           "#EF553B",
           "#00cc96",
           "#ab63fa",
           "#FFA15A",
           "#19d3f3",
           "#FF6692",
           "#B6E880",
           "#FF97FF",
           "#FECB52"
          ],
          "font": {
           "color": "#2a3f5f"
          },
          "geo": {
           "bgcolor": "white",
           "lakecolor": "white",
           "landcolor": "#E5ECF6",
           "showlakes": true,
           "showland": true,
           "subunitcolor": "white"
          },
          "hoverlabel": {
           "align": "left"
          },
          "hovermode": "closest",
          "mapbox": {
           "style": "light"
          },
          "paper_bgcolor": "white",
          "plot_bgcolor": "#E5ECF6",
          "polar": {
           "angularaxis": {
            "gridcolor": "white",
            "linecolor": "white",
            "ticks": ""
           },
           "bgcolor": "#E5ECF6",
           "radialaxis": {
            "gridcolor": "white",
            "linecolor": "white",
            "ticks": ""
           }
          },
          "scene": {
           "xaxis": {
            "backgroundcolor": "#E5ECF6",
            "gridcolor": "white",
            "gridwidth": 2,
            "linecolor": "white",
            "showbackground": true,
            "ticks": "",
            "zerolinecolor": "white"
           },
           "yaxis": {
            "backgroundcolor": "#E5ECF6",
            "gridcolor": "white",
            "gridwidth": 2,
            "linecolor": "white",
            "showbackground": true,
            "ticks": "",
            "zerolinecolor": "white"
           },
           "zaxis": {
            "backgroundcolor": "#E5ECF6",
            "gridcolor": "white",
            "gridwidth": 2,
            "linecolor": "white",
            "showbackground": true,
            "ticks": "",
            "zerolinecolor": "white"
           }
          },
          "shapedefaults": {
           "line": {
            "color": "#2a3f5f"
           }
          },
          "ternary": {
           "aaxis": {
            "gridcolor": "white",
            "linecolor": "white",
            "ticks": ""
           },
           "baxis": {
            "gridcolor": "white",
            "linecolor": "white",
            "ticks": ""
           },
           "bgcolor": "#E5ECF6",
           "caxis": {
            "gridcolor": "white",
            "linecolor": "white",
            "ticks": ""
           }
          },
          "title": {
           "x": 0.05
          },
          "xaxis": {
           "automargin": true,
           "gridcolor": "white",
           "linecolor": "white",
           "ticks": "",
           "title": {
            "standoff": 15
           },
           "zerolinecolor": "white",
           "zerolinewidth": 2
          },
          "yaxis": {
           "automargin": true,
           "gridcolor": "white",
           "linecolor": "white",
           "ticks": "",
           "title": {
            "standoff": 15
           },
           "zerolinecolor": "white",
           "zerolinewidth": 2
          }
         }
        },
        "title": {
         "text": "Timeline evolution for the total number of retweets"
        },
        "xaxis": {
         "anchor": "y",
         "domain": [
          0,
          1
         ],
         "title": {
          "text": "date"
         }
        },
        "yaxis": {
         "anchor": "x",
         "domain": [
          0,
          1
         ],
         "title": {
          "text": "retweet_count"
         }
        }
       }
      }
     },
     "metadata": {},
     "output_type": "display_data"
    }
   ],
   "source": [
    "import plotly.express as px\n",
    "\n",
    "fig = px.line(retweet_count_df, x=\"date\", y=\"retweet_count\", title='Timeline evolution for the total number of retweets')\n",
    "fig.show()"
   ]
  },
  {
   "cell_type": "code",
   "execution_count": 35,
   "metadata": {},
   "outputs": [],
   "source": [
    "pandemic_word_list = ['covid', 'virus', 'pandemic', 'sars', 'covid', 'mask', 'health', 'medic', 'doctor']"
   ]
  },
  {
   "cell_type": "code",
   "execution_count": 36,
   "metadata": {},
   "outputs": [],
   "source": [
    "tweets_df_en_pandemic = tweets_df_en[tweets_df_en.text.str.contains('|'.join(pandemic_word_list), case=False)]"
   ]
  },
  {
   "cell_type": "code",
   "execution_count": 37,
   "metadata": {},
   "outputs": [],
   "source": [
    "tweets_df_en_pandemic = tweets_df_en[tweets_df_en.text.str.contains('|'.join(pandemic_word_list), case=False)]"
   ]
  },
  {
   "cell_type": "code",
   "execution_count": 38,
   "metadata": {},
   "outputs": [],
   "source": [
    "tweet_count_pandemic_df = tweets_df_en_pandemic.groupby('date').author_id.count().reset_index()"
   ]
  },
  {
   "attachments": {},
   "cell_type": "markdown",
   "metadata": {},
   "source": [
    "## Extra"
   ]
  },
  {
   "cell_type": "code",
   "execution_count": 39,
   "metadata": {},
   "outputs": [
    {
     "name": "stderr",
     "output_type": "stream",
     "text": [
      "/var/folders/hj/n94x31sj08bdmgwjs6ybxbf40000gn/T/ipykernel_22593/1382736355.py:9: FutureWarning:\n",
      "\n",
      "The default dtype for empty Series will be 'object' instead of 'float64' in a future version. Specify a dtype explicitly to silence this warning.\n",
      "\n"
     ]
    },
    {
     "data": {
      "text/html": [
       "<div>\n",
       "<style scoped>\n",
       "    .dataframe tbody tr th:only-of-type {\n",
       "        vertical-align: middle;\n",
       "    }\n",
       "\n",
       "    .dataframe tbody tr th {\n",
       "        vertical-align: top;\n",
       "    }\n",
       "\n",
       "    .dataframe thead th {\n",
       "        text-align: right;\n",
       "    }\n",
       "</style>\n",
       "<table border=\"1\" class=\"dataframe\">\n",
       "  <thead>\n",
       "    <tr style=\"text-align: right;\">\n",
       "      <th></th>\n",
       "      <th>0</th>\n",
       "    </tr>\n",
       "  </thead>\n",
       "  <tbody>\n",
       "  </tbody>\n",
       "</table>\n",
       "</div>"
      ],
      "text/plain": [
       "Empty DataFrame\n",
       "Columns: [0]\n",
       "Index: []"
      ]
     },
     "execution_count": 39,
     "metadata": {},
     "output_type": "execute_result"
    }
   ],
   "source": [
    "import re\n",
    "import pandas as pd\n",
    "def mentions_counter(text_list):\n",
    "    #join tweets\n",
    "    allwords = ' '.join( [tweet for tweet in text_list] ).lower()\n",
    "    #mention finder\n",
    "    mentions = re.findall(r'@(\\w+)', allwords)\n",
    "    #count distinct values of the series\n",
    "    mentions = pd.Series(mentions).value_counts()\n",
    "    mentions = mentions.to_frame()\n",
    "    return mentions\n",
    "\n",
    "mentions_counter(activity.iloc[1,1])"
   ]
  },
  {
   "cell_type": "code",
   "execution_count": 40,
   "metadata": {},
   "outputs": [
    {
     "data": {
      "text/plain": [
       "'users tweets media'"
      ]
     },
     "execution_count": 40,
     "metadata": {},
     "output_type": "execute_result"
    }
   ],
   "source": [
    "allwords = ' '.join(activity.iloc[1,1] ).lower()\n",
    "allwords"
   ]
  },
  {
   "cell_type": "code",
   "execution_count": 41,
   "metadata": {},
   "outputs": [
    {
     "data": {
      "text/plain": [
       "'conversation_id lang id created_at reply_settings context_annotations entities attachments edit_controls in_reply_to_user_id text author_id edit_history_tweet_ids public_metrics possibly_sensitive referenced_tweets conversation_id lang id created_at reply_settings entities edit_controls text author_id edit_history_tweet_ids public_metrics possibly_sensitive referenced_tweets conversation_id lang id created_at reply_settings entities edit_controls text author_id edit_history_tweet_ids public_metrics possibly_sensitive'"
      ]
     },
     "execution_count": 41,
     "metadata": {},
     "output_type": "execute_result"
    }
   ],
   "source": [
    "new_lst = \" \".join(\" \".join(map(str, sub)) for sub in activity.data[0])\n",
    "new_lst"
   ]
  }
 ],
 "metadata": {
  "kernelspec": {
   "display_name": "base",
   "language": "python",
   "name": "python3"
  },
  "language_info": {
   "codemirror_mode": {
    "name": "ipython",
    "version": 3
   },
   "file_extension": ".py",
   "mimetype": "text/x-python",
   "name": "python",
   "nbconvert_exporter": "python",
   "pygments_lexer": "ipython3",
   "version": "3.9.15"
  },
  "orig_nbformat": 4,
  "vscode": {
   "interpreter": {
    "hash": "ecc7cb304bd511ccd86d6b9c6fe77ca07c9e45063e8f74b21fc472c4271be76c"
   }
  }
 },
 "nbformat": 4,
 "nbformat_minor": 2
}
